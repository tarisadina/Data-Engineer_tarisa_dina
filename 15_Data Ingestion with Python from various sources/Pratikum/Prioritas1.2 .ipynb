{
 "cells": [
  {
   "cell_type": "code",
   "execution_count": 1,
   "metadata": {},
   "outputs": [
    {
     "data": {
      "text/html": [
       "<div>\n",
       "<style scoped>\n",
       "    .dataframe tbody tr th:only-of-type {\n",
       "        vertical-align: middle;\n",
       "    }\n",
       "\n",
       "    .dataframe tbody tr th {\n",
       "        vertical-align: top;\n",
       "    }\n",
       "\n",
       "    .dataframe thead th {\n",
       "        text-align: right;\n",
       "    }\n",
       "</style>\n",
       "<table border=\"1\" class=\"dataframe\">\n",
       "  <thead>\n",
       "    <tr style=\"text-align: right;\">\n",
       "      <th></th>\n",
       "      <th>Transaction ID</th>\n",
       "      <th>User ID</th>\n",
       "      <th>Item Name</th>\n",
       "      <th>Quantity</th>\n",
       "      <th>Value (USD)</th>\n",
       "      <th>Status</th>\n",
       "    </tr>\n",
       "  </thead>\n",
       "  <tbody>\n",
       "    <tr>\n",
       "      <th>0</th>\n",
       "      <td>1</td>\n",
       "      <td>1001</td>\n",
       "      <td>Smartphone</td>\n",
       "      <td>1</td>\n",
       "      <td>799.99</td>\n",
       "      <td>success</td>\n",
       "    </tr>\n",
       "    <tr>\n",
       "      <th>1</th>\n",
       "      <td>2</td>\n",
       "      <td>1002</td>\n",
       "      <td>Headphones</td>\n",
       "      <td>2</td>\n",
       "      <td>399.98</td>\n",
       "      <td>success</td>\n",
       "    </tr>\n",
       "    <tr>\n",
       "      <th>2</th>\n",
       "      <td>3</td>\n",
       "      <td>1003</td>\n",
       "      <td>Laptop</td>\n",
       "      <td>1</td>\n",
       "      <td>999.99</td>\n",
       "      <td>success</td>\n",
       "    </tr>\n",
       "    <tr>\n",
       "      <th>3</th>\n",
       "      <td>4</td>\n",
       "      <td>1004</td>\n",
       "      <td>Bluetooth Speaker</td>\n",
       "      <td>1</td>\n",
       "      <td>79.99</td>\n",
       "      <td>success</td>\n",
       "    </tr>\n",
       "    <tr>\n",
       "      <th>4</th>\n",
       "      <td>5</td>\n",
       "      <td>1005</td>\n",
       "      <td>Smartwatch</td>\n",
       "      <td>1</td>\n",
       "      <td>299.99</td>\n",
       "      <td>pending</td>\n",
       "    </tr>\n",
       "  </tbody>\n",
       "</table>\n",
       "</div>"
      ],
      "text/plain": [
       "   Transaction ID  User ID          Item Name  Quantity  Value (USD)   Status\n",
       "0               1     1001         Smartphone         1       799.99  success\n",
       "1               2     1002         Headphones         2       399.98  success\n",
       "2               3     1003             Laptop         1       999.99  success\n",
       "3               4     1004  Bluetooth Speaker         1        79.99  success\n",
       "4               5     1005         Smartwatch         1       299.99  pending"
      ]
     },
     "metadata": {},
     "output_type": "display_data"
    }
   ],
   "source": [
    "import pandas as pd\n",
    "from IPython.display import display\n",
    "\n",
    "df = pd.read_csv(\"transactions.csv\")\n",
    "\n",
    "display(df.head())\n"
   ]
  },
  {
   "cell_type": "code",
   "execution_count": 4,
   "metadata": {},
   "outputs": [
    {
     "name": "stdout",
     "output_type": "stream",
     "text": [
      "Terjadi kesalahan saat menjalankan perintah SQL: Command 'mysql -u root -p < customers.sql' returned non-zero exit status 1.\n"
     ]
    }
   ],
   "source": [
    "import subprocess\n",
    "\n",
    "# Nama file SQL yang berisi perintah untuk menambahkan data pelanggan\n",
    "sql_file = 'customers.sql'\n",
    "\n",
    "# Command untuk menjalankan skrip SQL di MySQL\n",
    "mysql_command = f'mysql -u root -p < {sql_file}'\n",
    "\n",
    "try:\n",
    "    # Menjalankan command menggunakan subprocess\n",
    "    subprocess.run(mysql_command, shell=True, check=True)\n",
    "    print(\"Data pelanggan berhasil ditambahkan ke dalam database.\")\n",
    "except subprocess.CalledProcessError as e:\n",
    "    print(\"Terjadi kesalahan saat menjalankan perintah SQL:\", str(e))\n"
   ]
  },
  {
   "cell_type": "code",
   "execution_count": 3,
   "metadata": {},
   "outputs": [
    {
     "name": "stdout",
     "output_type": "stream",
     "text": [
      "Terjadi kesalahan saat mengeksekusi perintah SQL: (2003, \"Can't connect to MySQL server on 'localhost' ([WinError 10061] No connection could be made because the target machine actively refused it)\")\n"
     ]
    }
   ],
   "source": [
    "\n",
    "# Fungsi untuk membaca isi file SQL\n",
    "def read_sql_file(file_path):\n",
    "    try:\n",
    "        with open(file_path, 'r') as file:\n",
    "            sql_commands = file.read()\n",
    "        return sql_commands\n",
    "    except Exception as e:\n",
    "        print(\"Terjadi kesalahan saat membaca file SQL:\", str(e))\n",
    "        return None\n",
    "\n",
    "# Fungsi untuk menjalankan perintah SQL\n",
    "def execute_sql_commands(sql_commands, host, user, password, database):\n",
    "    try:\n",
    "        # Membuat koneksi ke database MySQL\n",
    "        conn = pymysql.connect(host=host, user=user, password=password, database=database)\n",
    "        cursor = conn.cursor()\n",
    "\n",
    "        # Memisahkan perintah SQL menjadi perintah terpisah\n",
    "        commands = sql_commands.split(';')\n",
    "\n",
    "        # Menjalankan setiap perintah SQL\n",
    "        for command in commands:\n",
    "            if command.strip() != '':\n",
    "                cursor.execute(command)\n",
    "\n",
    "        # Commit perubahan dan tutup koneksi\n",
    "        conn.commit()\n",
    "        conn.close()\n",
    "        print(\"Data pelanggan berhasil ditambahkan ke dalam database.\")\n",
    "    except Exception as e:\n",
    "        print(\"Terjadi kesalahan saat mengeksekusi perintah SQL:\", str(e))\n",
    "\n",
    "# Path file SQL\n",
    "sql_file_path = 'customers.sql'\n",
    "\n",
    "# Koneksi ke database MySQL\n",
    "host = 'localhost'\n",
    "user = 'root'\n",
    "password = 'password'\n",
    "database = 'nama_database'\n",
    "\n",
    "# Baca isi file SQL\n",
    "sql_commands = read_sql_file(sql_file_path)\n",
    "\n",
    "# Jalankan perintah SQL untuk menambahkan data pelanggan ke dalam database MySQL\n",
    "if sql_commands is not None:\n",
    "    execute_sql_commands(sql_commands, host, user, password, database)\n"
   ]
  }
 ],
 "metadata": {
  "interpreter": {
   "hash": "0619d576b63731cda00fbd2357564e97cb4b83e208770ce00b248acd7270be51"
  },
  "kernelspec": {
   "display_name": "Python 3.10.1 64-bit",
   "language": "python",
   "name": "python3"
  },
  "language_info": {
   "codemirror_mode": {
    "name": "ipython",
    "version": 3
   },
   "file_extension": ".py",
   "mimetype": "text/x-python",
   "name": "python",
   "nbconvert_exporter": "python",
   "pygments_lexer": "ipython3",
   "version": "3.10.1"
  },
  "orig_nbformat": 4
 },
 "nbformat": 4,
 "nbformat_minor": 2
}
