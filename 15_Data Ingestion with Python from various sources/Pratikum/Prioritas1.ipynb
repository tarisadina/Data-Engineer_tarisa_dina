{
 "cells": [
  {
   "cell_type": "code",
   "execution_count": 5,
   "metadata": {},
   "outputs": [
    {
     "name": "stdout",
     "output_type": "stream",
     "text": [
      "Collecting pymysql\n",
      "  Downloading PyMySQL-1.1.0-py3-none-any.whl (44 kB)\n",
      "Installing collected packages: pymysql\n",
      "Successfully installed pymysql-1.1.0\n",
      "Note: you may need to restart the kernel to use updated packages.\n"
     ]
    },
    {
     "name": "stderr",
     "output_type": "stream",
     "text": [
      "WARNING: You are using pip version 21.2.4; however, version 24.0 is available.\n",
      "You should consider upgrading via the 'C:\\Users\\hello\\AppData\\Local\\Programs\\Python\\Python310\\python.exe -m pip install --upgrade pip' command.\n"
     ]
    }
   ],
   "source": [
    "pip install pymysql\n"
   ]
  },
  {
   "cell_type": "code",
   "execution_count": 13,
   "metadata": {},
   "outputs": [
    {
     "name": "stdout",
     "output_type": "stream",
     "text": [
      "Collecting openpyxl\n",
      "  Downloading openpyxl-3.1.2-py2.py3-none-any.whl (249 kB)\n",
      "Collecting et-xmlfile\n",
      "  Downloading et_xmlfile-1.1.0-py3-none-any.whl (4.7 kB)\n",
      "Installing collected packages: et-xmlfile, openpyxl\n",
      "Successfully installed et-xmlfile-1.1.0 openpyxl-3.1.2\n",
      "Note: you may need to restart the kernel to use updated packages.\n"
     ]
    },
    {
     "name": "stderr",
     "output_type": "stream",
     "text": [
      "WARNING: You are using pip version 21.2.4; however, version 24.0 is available.\n",
      "You should consider upgrading via the 'C:\\Users\\hello\\AppData\\Local\\Programs\\Python\\Python310\\python.exe -m pip install --upgrade pip' command.\n"
     ]
    }
   ],
   "source": [
    "pip install openpyxl"
   ]
  },
  {
   "cell_type": "code",
   "execution_count": 14,
   "metadata": {},
   "outputs": [
    {
     "name": "stdout",
     "output_type": "stream",
     "text": [
      "Requirement already satisfied: requests in c:\\users\\hello\\appdata\\local\\programs\\python\\python310\\lib\\site-packages (2.31.0)\n",
      "Requirement already satisfied: urllib3<3,>=1.21.1 in c:\\users\\hello\\appdata\\local\\programs\\python\\python310\\lib\\site-packages (from requests) (2.2.1)\n",
      "Requirement already satisfied: charset-normalizer<4,>=2 in c:\\users\\hello\\appdata\\local\\programs\\python\\python310\\lib\\site-packages (from requests) (3.3.2)\n",
      "Requirement already satisfied: certifi>=2017.4.17 in c:\\users\\hello\\appdata\\local\\programs\\python\\python310\\lib\\site-packages (from requests) (2024.2.2)\n",
      "Requirement already satisfied: idna<4,>=2.5 in c:\\users\\hello\\appdata\\local\\programs\\python\\python310\\lib\\site-packages (from requests) (3.7)\n",
      "Note: you may need to restart the kernel to use updated packages.\n"
     ]
    },
    {
     "name": "stderr",
     "output_type": "stream",
     "text": [
      "WARNING: You are using pip version 21.2.4; however, version 24.0 is available.\n",
      "You should consider upgrading via the 'C:\\Users\\hello\\AppData\\Local\\Programs\\Python\\Python310\\python.exe -m pip install --upgrade pip' command.\n"
     ]
    }
   ],
   "source": [
    "pip install requests\n"
   ]
  },
  {
   "cell_type": "code",
   "execution_count": 15,
   "metadata": {},
   "outputs": [],
   "source": [
    "import pandas as pd\n",
    "import pymysql\n",
    "import requests"
   ]
  },
  {
   "cell_type": "code",
   "execution_count": 16,
   "metadata": {},
   "outputs": [
    {
     "name": "stdout",
     "output_type": "stream",
     "text": [
      "Terjadi kesalahan saat mengimpor data pelanggan dari MySQL: (2003, \"Can't connect to MySQL server on 'host' ([Errno 11001] getaddrinfo failed)\")\n"
     ]
    }
   ],
   "source": [
    "\n",
    "# Fungsi untuk mengimpor data pelanggan dari database MySQL\n",
    "def import_customer_data_from_mysql(host, user, password, database):\n",
    "    try:\n",
    "        # Membuat koneksi ke database MySQL\n",
    "        conn = pymysql.connect(host=host, user=user, password=password, database=database)\n",
    "        # Membuat DataFrame dari hasil query SQL\n",
    "        customer_data = pd.read_sql(\"SELECT * FROM customers\", conn)\n",
    "        conn.close()\n",
    "        return customer_data\n",
    "    except Exception as e:\n",
    "        print(\"Terjadi kesalahan saat mengimpor data pelanggan dari MySQL:\", str(e))\n",
    "        return None\n",
    "\n",
    "# Fungsi untuk mengambil data pengiriman dari API\n",
    "def fetch_shipping_data_from_api(api_url):\n",
    "    try:\n",
    "        # Mengambil data dari API menggunakan requests\n",
    "        response = requests.get(api_url)\n",
    "        if response.status_code == 200:\n",
    "            shipping_data = pd.DataFrame(response.json())\n",
    "            return shipping_data\n",
    "        else:\n",
    "            print(\"Gagal mengambil data pengiriman dari API. Kode status:\", response.status_code)\n",
    "            return None\n",
    "    except Exception as e:\n",
    "        print(\"Terjadi kesalahan saat mengambil data pengiriman dari API:\", str(e))\n",
    "        return None\n",
    "\n",
    "# Ekstraksi data transaksi e-commerce dari file CSV\n",
    "def extract_transaction_data_from_csv(csv_file):\n",
    "    try:\n",
    "        transaction_data = pd.read_csv(csv_file)\n",
    "        return transaction_data\n",
    "    except Exception as e:\n",
    "        print(\"Terjadi kesalahan saat mengimpor data transaksi dari CSV:\", str(e))\n",
    "        return None\n",
    "\n",
    "# Ekstraksi data produk dari file Excel\n",
    "def extract_product_data_from_excel(excel_file):\n",
    "    try:\n",
    "        product_data = pd.read_excel(excel_file)\n",
    "        return product_data\n",
    "    except Exception as e:\n",
    "        print(\"Terjadi kesalahan saat mengimpor data produk dari Excel:\", str(e))\n",
    "        return None\n",
    "\n",
    "# URL API untuk data pengiriman\n",
    "api_url = \"https://fakestoreapi.com/products\"\n",
    "\n",
    "# Ekstraksi data pengiriman dari API\n",
    "shipping_data = fetch_shipping_data_from_api(api_url)\n",
    "\n",
    "# Jika semua data berhasil diekstrak\n",
    "if shipping_data is not None:\n",
    "    # Mengimpor data pelanggan dari database MySQL\n",
    "    customer_data = import_customer_data_from_mysql(\"host\", \"user\", \"password\", \"database\")\n",
    "\n",
    "    # Ekstraksi data transaksi e-commerce dari file CSV\n",
    "    transaction_data = extract_transaction_data_from_csv(\"transactions.csv\")\n",
    "\n",
    "    # Ekstraksi data produk dari file Excel\n",
    "    product_data = extract_product_data_from_excel(\"products.xlsx\")\n",
    "\n"
   ]
  }
 ],
 "metadata": {
  "interpreter": {
   "hash": "0619d576b63731cda00fbd2357564e97cb4b83e208770ce00b248acd7270be51"
  },
  "kernelspec": {
   "display_name": "Python 3.10.1 64-bit",
   "language": "python",
   "name": "python3"
  },
  "language_info": {
   "codemirror_mode": {
    "name": "ipython",
    "version": 3
   },
   "file_extension": ".py",
   "mimetype": "text/x-python",
   "name": "python",
   "nbconvert_exporter": "python",
   "pygments_lexer": "ipython3",
   "version": "3.10.1"
  },
  "orig_nbformat": 4
 },
 "nbformat": 4,
 "nbformat_minor": 2
}
