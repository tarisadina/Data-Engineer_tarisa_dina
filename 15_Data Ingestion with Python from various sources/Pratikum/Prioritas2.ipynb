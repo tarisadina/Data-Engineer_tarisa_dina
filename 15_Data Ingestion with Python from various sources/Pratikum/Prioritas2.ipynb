{
 "cells": [
  {
   "cell_type": "code",
   "execution_count": 1,
   "metadata": {},
   "outputs": [
    {
     "name": "stdout",
     "output_type": "stream",
     "text": [
      "Requirement already satisfied: requests in c:\\users\\hello\\appdata\\local\\programs\\python\\python310\\lib\\site-packages (2.31.0)\n",
      "Requirement already satisfied: urllib3<3,>=1.21.1 in c:\\users\\hello\\appdata\\local\\programs\\python\\python310\\lib\\site-packages (from requests) (2.2.1)\n",
      "Requirement already satisfied: charset-normalizer<4,>=2 in c:\\users\\hello\\appdata\\local\\programs\\python\\python310\\lib\\site-packages (from requests) (3.3.2)\n",
      "Requirement already satisfied: certifi>=2017.4.17 in c:\\users\\hello\\appdata\\local\\programs\\python\\python310\\lib\\site-packages (from requests) (2024.2.2)\n",
      "Requirement already satisfied: idna<4,>=2.5 in c:\\users\\hello\\appdata\\local\\programs\\python\\python310\\lib\\site-packages (from requests) (3.7)\n",
      "Note: you may need to restart the kernel to use updated packages.\n"
     ]
    },
    {
     "name": "stderr",
     "output_type": "stream",
     "text": [
      "WARNING: You are using pip version 21.2.4; however, version 24.0 is available.\n",
      "You should consider upgrading via the 'C:\\Users\\hello\\AppData\\Local\\Programs\\Python\\Python310\\python.exe -m pip install --upgrade pip' command.\n"
     ]
    }
   ],
   "source": [
    "pip install requests\n"
   ]
  },
  {
   "cell_type": "code",
   "execution_count": 2,
   "metadata": {},
   "outputs": [
    {
     "name": "stdout",
     "output_type": "stream",
     "text": [
      "Requirement already satisfied: beautifulsoup4 in c:\\users\\hello\\appdata\\local\\programs\\python\\python310\\lib\\site-packages (4.12.3)\n",
      "Requirement already satisfied: soupsieve>1.2 in c:\\users\\hello\\appdata\\local\\programs\\python\\python310\\lib\\site-packages (from beautifulsoup4) (2.5)\n",
      "Note: you may need to restart the kernel to use updated packages.\n"
     ]
    },
    {
     "name": "stderr",
     "output_type": "stream",
     "text": [
      "WARNING: You are using pip version 21.2.4; however, version 24.0 is available.\n",
      "You should consider upgrading via the 'C:\\Users\\hello\\AppData\\Local\\Programs\\Python\\Python310\\python.exe -m pip install --upgrade pip' command.\n"
     ]
    }
   ],
   "source": [
    "pip install beautifulsoup4\n"
   ]
  },
  {
   "cell_type": "code",
   "execution_count": 3,
   "metadata": {},
   "outputs": [],
   "source": [
    "import requests\n",
    "from bs4 import BeautifulSoup\n",
    "\n",
    "def extract_reviews_amazon(url):\n",
    "    try:\n",
    "        # Mengirim permintaan GET ke halaman produk\n",
    "        response = requests.get(url)\n",
    "        \n",
    "        # Memastikan permintaan berhasil\n",
    "        if response.status_code == 200:\n",
    "            # Membuat objek BeautifulSoup dari konten HTML\n",
    "            soup = BeautifulSoup(response.content, 'html.parser')\n",
    "            \n",
    "            # Mengekstrak informasi ulasan\n",
    "            reviews = []\n",
    "            review_elements = soup.find_all('div', class_='a-section review')\n",
    "            for review_element in review_elements:\n",
    "                # Mengekstrak rating\n",
    "                rating_element = review_element.find('span', class_='a-icon-alt')\n",
    "                rating = rating_element.text.split(' ')[0]\n",
    "                \n",
    "                # Mengekstrak teks ulasan\n",
    "                text_element = review_element.find('span', class_='review-text')\n",
    "                text = text_element.text.strip()\n",
    "                \n",
    "                # Mengekstrak tanggal ulasan\n",
    "                date_element = review_element.find('span', class_='review-date')\n",
    "                date = date_element.text.strip()\n",
    "                \n",
    "                # Mengekstrak nama pengguna\n",
    "                user_element = review_element.find('span', class_='a-profile-name')\n",
    "                user = user_element.text.strip()\n",
    "                \n",
    "                # Menyimpan informasi ulasan dalam dictionary\n",
    "                review = {\n",
    "                    'Rating': rating,\n",
    "                    'Text': text,\n",
    "                    'Date': date,\n",
    "                    'User': user\n",
    "                }\n",
    "                reviews.append(review)\n",
    "                \n",
    "            return reviews\n",
    "        else:\n",
    "            print(\"Gagal mengambil halaman produk. Kode status:\", response.status_code)\n",
    "            return None\n",
    "    except Exception as e:\n",
    "        print(\"Terjadi kesalahan saat mengekstrak ulasan:\", str(e))\n",
    "        return None\n",
    "\n",
    "# URL produk di Amazon\n",
    "url = 'https://www.amazon.com/Apple-AirPods-Pro/dp/B07ZPC9QD4/'\n",
    "\n",
    "# Ekstraksi ulasan dari halaman produk Amazon\n",
    "reviews = extract_reviews_amazon(url)\n",
    "\n",
    "# Tampilkan hasil\n",
    "if reviews:\n",
    "    for i, review in enumerate(reviews, start=1):\n",
    "        print(f\"Review {i}:\")\n",
    "        print(\"Rating:\", review['Rating'])\n",
    "        print(\"Text:\", review['Text'])\n",
    "        print(\"Date:\", review['Date'])\n",
    "        print(\"User:\", review['User'])\n",
    "        print()\n"
   ]
  },
  {
   "cell_type": "code",
   "execution_count": 6,
   "metadata": {},
   "outputs": [
    {
     "data": {
      "text/plain": [
       "<function __main__.extract_reviews_amazon(url)>"
      ]
     },
     "execution_count": 6,
     "metadata": {},
     "output_type": "execute_result"
    }
   ],
   "source": [
    "import requests\n",
    "from bs4 import BeautifulSoup\n",
    "\n",
    "def extract_reviews_amazon(url):\n",
    "    try:\n",
    "        # Mengirim permintaan GET ke halaman produk\n",
    "        response = requests.get(url)\n",
    "        \n",
    "        # Memastikan permintaan berhasil\n",
    "        if response.status_code == 200:\n",
    "            # Membuat objek BeautifulSoup dari konten HTML\n",
    "            soup = BeautifulSoup(response.content, 'html.parser')\n",
    "            \n",
    "            # Mengekstrak informasi ulasan dari halaman pertama\n",
    "            reviews = extract_reviews(soup)\n",
    "            \n",
    "            # Mengecek apakah ada navigasi ke halaman berikutnya\n",
    "            next_page_link = soup.find('li', class_='a-last')\n",
    "            while next_page_link:\n",
    "                # Mengekstrak URL halaman berikutnya\n",
    "                next_page_url = 'https://www.amazon.com' + next_page_link.find('a')['href']\n",
    "                \n",
    "                # Mengirim permintaan GET ke halaman berikutnya\n",
    "                response = requests.get(next_page_url)\n",
    "                if response.status_code == 200:\n",
    "                    # Membuat objek BeautifulSoup dari konten HTML\n",
    "                    soup = BeautifulSoup(response.content, 'html.parser')\n",
    "                    \n",
    "                    # Mengekstrak informasi ulasan dari halaman berikutnya\n",
    "                    reviews += extract_reviews(soup)\n",
    "                    \n",
    "                    # Mengecek apakah ada navigasi ke halaman berikutnya lagi\n",
    "                    next_page_link = soup.find('li', class_='a-last')\n",
    "                else:\n",
    "                    print(\"Gagal mengambil halaman berikutnya. Kode status:\", response.status_code)\n",
    "                    break\n",
    "            \n",
    "            return reviews\n",
    "        else:\n",
    "            print(\"Gagal mengambil halaman produk. Kode status:\", response.status_code)\n",
    "            return None\n",
    "    except Exception as e:\n",
    "        print(\"Terjadi kesalahan saat mengekstrak ulasan:\", str(e))\n",
    "        return None\n",
    "\n",
    "def extract_reviews(soup):\n",
    "    # Mengekstrak informasi ulasan\n",
    "    reviews = []\n",
    "    review_elements = soup.find_all('div', class_='a-section review')\n",
    "    for review_element in review_elements:\n",
    "        # Mengekstrak rating\n",
    "        rating_element = review_element.find('span', class_='a-icon-alt')\n",
    "        rating = rating_element.text.split(' ')[0]\n",
    "        \n",
    "        # Mengekstrak teks ulasan\n",
    "        text_element = review_element.find('span', class_='review-text')\n",
    "        text = text_element.text.strip()\n",
    "        \n",
    "        # Mengekstrak tanggal ulasan\n",
    "        date_element = review_element.find('span', class_='review-date')\n",
    "        date = date_element.text.strip()\n",
    "        \n",
    "        # Mengekstrak nama pengguna\n",
    "        user_element = review_element.find('span', class_='a-profile-name')\n",
    "        user = user_element.text.strip()\n",
    "        \n",
    "        # Menyimpan informasi ulasan dalam dictionary\n",
    "        review = {\n",
    "            'Rating': rating,\n",
    "            'Text': text,\n",
    "            'Date': date,\n",
    "            'User': user\n",
    "        }\n",
    "        reviews.append(review)\n",
    "        \n",
    "    return reviews\n",
    "\n",
    "# URL produk di Amazon\n",
    "url = 'https://www.amazon.com/Apple-AirPods-Pro/dp/B07ZPC9QD4/'\n",
    "\n",
    "# Ekstraksi ulasan dari halaman produk Amazon\n",
    "reviews = extract_reviews_amazon(url)\n",
    "\n",
    "# Tampilkan hasil\n",
    "if reviews:\n",
    "    for i, review in enumerate(reviews, start=1):\n",
    "        print(f\"Review {i}:\")\n",
    "        print(\"Rating:\", review['Rating'])\n",
    "        print(\"Text:\", review['Text'])\n",
    "        print(\"Date:\", review['Date'])\n",
    "        print(\"User:\", review['User'])\n",
    "        review\n"
   ]
  }
 ],
 "metadata": {
  "interpreter": {
   "hash": "0619d576b63731cda00fbd2357564e97cb4b83e208770ce00b248acd7270be51"
  },
  "kernelspec": {
   "display_name": "Python 3.10.1 64-bit",
   "language": "python",
   "name": "python3"
  },
  "language_info": {
   "codemirror_mode": {
    "name": "ipython",
    "version": 3
   },
   "file_extension": ".py",
   "mimetype": "text/x-python",
   "name": "python",
   "nbconvert_exporter": "python",
   "pygments_lexer": "ipython3",
   "version": "3.10.1"
  },
  "orig_nbformat": 4
 },
 "nbformat": 4,
 "nbformat_minor": 2
}
