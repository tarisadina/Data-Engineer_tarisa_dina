{
 "cells": [
  {
   "cell_type": "code",
   "execution_count": 3,
   "metadata": {},
   "outputs": [
    {
     "data": {
      "text/html": [
       "<pre style=\"white-space:pre;overflow-x:auto;line-height:normal;font-family:Menlo,'DejaVu Sans Mono',consolas,'Courier New',monospace\"><span style=\"color: #808000; text-decoration-color: #808000; font-weight: bold\">C:\\Users\\hello\\AppData\\Local\\Programs\\Python\\Python310\\lib\\site-packages\\airflow\\__init__.py:</span><span style=\"color: #808000; text-decoration-color: #808000; font-weight: bold\">35</span><span style=\"color: #808000; text-decoration-color: #808000; font-weight: bold\"> RuntimeWarning</span><span style=\"color: #808000; text-decoration-color: #808000\">: Airflow currently can be run on POSIX-compliant Operating Systems. For development, it is regularly tested on fairly modern Linux Distros and recent versions of macOS. On Windows you can run it via WSL2 </span><span style=\"color: #808000; text-decoration-color: #808000; font-weight: bold\">(</span><span style=\"color: #808000; text-decoration-color: #808000\">Windows Subsystem for Linux </span><span style=\"color: #808000; text-decoration-color: #808000; font-weight: bold\">2</span><span style=\"color: #808000; text-decoration-color: #808000; font-weight: bold\">)</span><span style=\"color: #808000; text-decoration-color: #808000\"> or via Linux Containers. The work to add Windows support is tracked via </span><span style=\"color: #808000; text-decoration-color: #808000; text-decoration: underline\">https://github.com/apache/airflow/issues/10388,</span><span style=\"color: #808000; text-decoration-color: #808000\"> but it is not a high priority.</span>\n",
       "</pre>\n"
      ],
      "text/plain": [
       "\u001b[1;33mC:\\Users\\hello\\AppData\\Local\\Programs\\Python\\Python310\\lib\\site-packages\\airflow\\__init__.py:\u001b[0m\u001b[1;33m35\u001b[0m\u001b[1;33m RuntimeWarning\u001b[0m\u001b[33m: Airflow currently can be run on POSIX-compliant Operating Systems. For development, it is regularly tested on fairly modern Linux Distros and recent versions of macOS. On Windows you can run it via WSL2 \u001b[0m\u001b[1;33m(\u001b[0m\u001b[33mWindows Subsystem for Linux \u001b[0m\u001b[1;33m2\u001b[0m\u001b[1;33m)\u001b[0m\u001b[33m or via Linux Containers. The work to add Windows support is tracked via \u001b[0m\u001b[4;33mhttps://github.com/apache/airflow/issues/10388,\u001b[0m\u001b[33m but it is not a high priority.\u001b[0m\n"
      ]
     },
     "metadata": {},
     "output_type": "display_data"
    },
    {
     "name": "stdout",
     "output_type": "stream",
     "text": [
      "[\u001b[34m2024-05-18T10:05:08.342+0700\u001b[0m] {\u001b[34mlogging_config.py:\u001b[0m71} ERROR\u001b[0m - Unable to load the config, contains a configuration error.\u001b[0m\n"
     ]
    },
    {
     "ename": "ValueError",
     "evalue": "Unable to configure formatter 'airflow'",
     "output_type": "error",
     "traceback": [
      "\u001b[1;31m---------------------------------------------------------------------------\u001b[0m",
      "\u001b[1;31mAttributeError\u001b[0m                            Traceback (most recent call last)",
      "File \u001b[1;32m~\\AppData\\Local\\Programs\\Python\\Python310\\lib\\logging\\config.py:94\u001b[0m, in \u001b[0;36m_resolve\u001b[1;34m(name)\u001b[0m\n\u001b[0;32m     <a href='file:///c%3A/Users/hello/AppData/Local/Programs/Python/Python310/lib/logging/config.py?line=92'>93</a>\u001b[0m \u001b[39mtry\u001b[39;00m:\n\u001b[1;32m---> <a href='file:///c%3A/Users/hello/AppData/Local/Programs/Python/Python310/lib/logging/config.py?line=93'>94</a>\u001b[0m     found \u001b[39m=\u001b[39m \u001b[39mgetattr\u001b[39;49m(found, n)\n\u001b[0;32m     <a href='file:///c%3A/Users/hello/AppData/Local/Programs/Python/Python310/lib/logging/config.py?line=94'>95</a>\u001b[0m \u001b[39mexcept\u001b[39;00m \u001b[39mAttributeError\u001b[39;00m:\n",
      "\u001b[1;31mAttributeError\u001b[0m: partially initialized module 'airflow' has no attribute 'utils' (most likely due to a circular import)",
      "\nDuring handling of the above exception, another exception occurred:\n",
      "\u001b[1;31mAttributeError\u001b[0m                            Traceback (most recent call last)",
      "File \u001b[1;32m~\\AppData\\Local\\Programs\\Python\\Python310\\lib\\logging\\config.py:544\u001b[0m, in \u001b[0;36mDictConfigurator.configure\u001b[1;34m(self)\u001b[0m\n\u001b[0;32m    <a href='file:///c%3A/Users/hello/AppData/Local/Programs/Python/Python310/lib/logging/config.py?line=542'>543</a>\u001b[0m \u001b[39mtry\u001b[39;00m:\n\u001b[1;32m--> <a href='file:///c%3A/Users/hello/AppData/Local/Programs/Python/Python310/lib/logging/config.py?line=543'>544</a>\u001b[0m     formatters[name] \u001b[39m=\u001b[39m \u001b[39mself\u001b[39;49m\u001b[39m.\u001b[39;49mconfigure_formatter(\n\u001b[0;32m    <a href='file:///c%3A/Users/hello/AppData/Local/Programs/Python/Python310/lib/logging/config.py?line=544'>545</a>\u001b[0m                                         formatters[name])\n\u001b[0;32m    <a href='file:///c%3A/Users/hello/AppData/Local/Programs/Python/Python310/lib/logging/config.py?line=545'>546</a>\u001b[0m \u001b[39mexcept\u001b[39;00m \u001b[39mException\u001b[39;00m \u001b[39mas\u001b[39;00m e:\n",
      "File \u001b[1;32m~\\AppData\\Local\\Programs\\Python\\Python310\\lib\\logging\\config.py:676\u001b[0m, in \u001b[0;36mDictConfigurator.configure_formatter\u001b[1;34m(self, config)\u001b[0m\n\u001b[0;32m    <a href='file:///c%3A/Users/hello/AppData/Local/Programs/Python/Python310/lib/logging/config.py?line=674'>675</a>\u001b[0m \u001b[39melse\u001b[39;00m:\n\u001b[1;32m--> <a href='file:///c%3A/Users/hello/AppData/Local/Programs/Python/Python310/lib/logging/config.py?line=675'>676</a>\u001b[0m     c \u001b[39m=\u001b[39m _resolve(cname)\n\u001b[0;32m    <a href='file:///c%3A/Users/hello/AppData/Local/Programs/Python/Python310/lib/logging/config.py?line=677'>678</a>\u001b[0m \u001b[39m# A TypeError would be raised if \"validate\" key is passed in with a formatter callable\u001b[39;00m\n\u001b[0;32m    <a href='file:///c%3A/Users/hello/AppData/Local/Programs/Python/Python310/lib/logging/config.py?line=678'>679</a>\u001b[0m \u001b[39m# that does not accept \"validate\" as a parameter\u001b[39;00m\n",
      "File \u001b[1;32m~\\AppData\\Local\\Programs\\Python\\Python310\\lib\\logging\\config.py:97\u001b[0m, in \u001b[0;36m_resolve\u001b[1;34m(name)\u001b[0m\n\u001b[0;32m     <a href='file:///c%3A/Users/hello/AppData/Local/Programs/Python/Python310/lib/logging/config.py?line=95'>96</a>\u001b[0m         \u001b[39m__import__\u001b[39m(used)\n\u001b[1;32m---> <a href='file:///c%3A/Users/hello/AppData/Local/Programs/Python/Python310/lib/logging/config.py?line=96'>97</a>\u001b[0m         found \u001b[39m=\u001b[39m \u001b[39mgetattr\u001b[39;49m(found, n)\n\u001b[0;32m     <a href='file:///c%3A/Users/hello/AppData/Local/Programs/Python/Python310/lib/logging/config.py?line=97'>98</a>\u001b[0m \u001b[39mreturn\u001b[39;00m found\n",
      "\u001b[1;31mAttributeError\u001b[0m: partially initialized module 'airflow' has no attribute 'utils' (most likely due to a circular import)",
      "\nThe above exception was the direct cause of the following exception:\n",
      "\u001b[1;31mValueError\u001b[0m                                Traceback (most recent call last)",
      "Cell \u001b[1;32mIn[3], line 2\u001b[0m\n\u001b[0;32m      1\u001b[0m \u001b[38;5;28;01mfrom\u001b[39;00m \u001b[38;5;21;01mdatetime\u001b[39;00m \u001b[38;5;28;01mimport\u001b[39;00m datetime\n\u001b[1;32m----> 2\u001b[0m \u001b[38;5;28;01mfrom\u001b[39;00m \u001b[38;5;21;01mairflow\u001b[39;00m \u001b[38;5;28;01mimport\u001b[39;00m DAG\n\u001b[0;32m      3\u001b[0m \u001b[38;5;28;01mfrom\u001b[39;00m \u001b[38;5;21;01mairflow\u001b[39;00m\u001b[38;5;21;01m.\u001b[39;00m\u001b[38;5;21;01moperators\u001b[39;00m\u001b[38;5;21;01m.\u001b[39;00m\u001b[38;5;21;01mbash\u001b[39;00m \u001b[38;5;28;01mimport\u001b[39;00m BashOperator\n\u001b[0;32m      5\u001b[0m \u001b[38;5;66;03m# Definisikan default_args untuk DAG\u001b[39;00m\n",
      "File \u001b[1;32m~\\AppData\\Local\\Programs\\Python\\Python310\\lib\\site-packages\\airflow\\__init__.py:73\u001b[0m\n\u001b[0;32m     <a href='file:///c%3A/Users/hello/AppData/Local/Programs/Python/Python310/lib/site-packages/airflow/__init__.py?line=66'>67</a>\u001b[0m \u001b[39m# Perform side-effects unless someone has explicitly opted out before import\u001b[39;00m\n\u001b[0;32m     <a href='file:///c%3A/Users/hello/AppData/Local/Programs/Python/Python310/lib/site-packages/airflow/__init__.py?line=67'>68</a>\u001b[0m \u001b[39m# WARNING: DO NOT USE THIS UNLESS YOU REALLY KNOW WHAT YOU'RE DOING.\u001b[39;00m\n\u001b[0;32m     <a href='file:///c%3A/Users/hello/AppData/Local/Programs/Python/Python310/lib/site-packages/airflow/__init__.py?line=68'>69</a>\u001b[0m \u001b[39m# This environment variable prevents proper initialization, and things like\u001b[39;00m\n\u001b[0;32m     <a href='file:///c%3A/Users/hello/AppData/Local/Programs/Python/Python310/lib/site-packages/airflow/__init__.py?line=69'>70</a>\u001b[0m \u001b[39m# configs, logging, the ORM, etc. will be broken. It is only useful if you only\u001b[39;00m\n\u001b[0;32m     <a href='file:///c%3A/Users/hello/AppData/Local/Programs/Python/Python310/lib/site-packages/airflow/__init__.py?line=70'>71</a>\u001b[0m \u001b[39m# access certain trivial constants and free functions (e.g. `__version__`).\u001b[39;00m\n\u001b[0;32m     <a href='file:///c%3A/Users/hello/AppData/Local/Programs/Python/Python310/lib/site-packages/airflow/__init__.py?line=71'>72</a>\u001b[0m \u001b[39mif\u001b[39;00m \u001b[39mnot\u001b[39;00m os\u001b[39m.\u001b[39menviron\u001b[39m.\u001b[39mget(\u001b[39m\"\u001b[39m\u001b[39m_AIRFLOW__AS_LIBRARY\u001b[39m\u001b[39m\"\u001b[39m, \u001b[39mNone\u001b[39;00m):\n\u001b[1;32m---> <a href='file:///c%3A/Users/hello/AppData/Local/Programs/Python/Python310/lib/site-packages/airflow/__init__.py?line=72'>73</a>\u001b[0m     settings\u001b[39m.\u001b[39;49minitialize()\n\u001b[0;32m     <a href='file:///c%3A/Users/hello/AppData/Local/Programs/Python/Python310/lib/site-packages/airflow/__init__.py?line=74'>75</a>\u001b[0m \u001b[39m# Things to lazy import in form {local_name: ('target_module', 'target_name', 'deprecated')}\u001b[39;00m\n\u001b[0;32m     <a href='file:///c%3A/Users/hello/AppData/Local/Programs/Python/Python310/lib/site-packages/airflow/__init__.py?line=75'>76</a>\u001b[0m __lazy_imports: \u001b[39mdict\u001b[39m[\u001b[39mstr\u001b[39m, \u001b[39mtuple\u001b[39m[\u001b[39mstr\u001b[39m, \u001b[39mstr\u001b[39m, \u001b[39mbool\u001b[39m]] \u001b[39m=\u001b[39m {\n\u001b[0;32m     <a href='file:///c%3A/Users/hello/AppData/Local/Programs/Python/Python310/lib/site-packages/airflow/__init__.py?line=76'>77</a>\u001b[0m     \u001b[39m\"\u001b[39m\u001b[39mDAG\u001b[39m\u001b[39m\"\u001b[39m: (\u001b[39m\"\u001b[39m\u001b[39m.models.dag\u001b[39m\u001b[39m\"\u001b[39m, \u001b[39m\"\u001b[39m\u001b[39mDAG\u001b[39m\u001b[39m\"\u001b[39m, \u001b[39mFalse\u001b[39;00m),\n\u001b[0;32m     <a href='file:///c%3A/Users/hello/AppData/Local/Programs/Python/Python310/lib/site-packages/airflow/__init__.py?line=77'>78</a>\u001b[0m     \u001b[39m\"\u001b[39m\u001b[39mDataset\u001b[39m\u001b[39m\"\u001b[39m: (\u001b[39m\"\u001b[39m\u001b[39m.datasets\u001b[39m\u001b[39m\"\u001b[39m, \u001b[39m\"\u001b[39m\u001b[39mDataset\u001b[39m\u001b[39m\"\u001b[39m, \u001b[39mFalse\u001b[39;00m),\n\u001b[1;32m   (...)\u001b[0m\n\u001b[0;32m     <a href='file:///c%3A/Users/hello/AppData/Local/Programs/Python/Python310/lib/site-packages/airflow/__init__.py?line=81'>82</a>\u001b[0m     \u001b[39m\"\u001b[39m\u001b[39mAirflowException\u001b[39m\u001b[39m\"\u001b[39m: (\u001b[39m\"\u001b[39m\u001b[39m.exceptions\u001b[39m\u001b[39m\"\u001b[39m, \u001b[39m\"\u001b[39m\u001b[39mAirflowException\u001b[39m\u001b[39m\"\u001b[39m, \u001b[39mTrue\u001b[39;00m),\n\u001b[0;32m     <a href='file:///c%3A/Users/hello/AppData/Local/Programs/Python/Python310/lib/site-packages/airflow/__init__.py?line=82'>83</a>\u001b[0m }\n",
      "File \u001b[1;32m~\\AppData\\Local\\Programs\\Python\\Python310\\lib\\site-packages\\airflow\\settings.py:531\u001b[0m, in \u001b[0;36minitialize\u001b[1;34m()\u001b[0m\n\u001b[0;32m    <a href='file:///c%3A/Users/hello/AppData/Local/Programs/Python/Python310/lib/site-packages/airflow/settings.py?line=528'>529</a>\u001b[0m import_local_settings()\n\u001b[0;32m    <a href='file:///c%3A/Users/hello/AppData/Local/Programs/Python/Python310/lib/site-packages/airflow/settings.py?line=529'>530</a>\u001b[0m \u001b[39mglobal\u001b[39;00m LOGGING_CLASS_PATH\n\u001b[1;32m--> <a href='file:///c%3A/Users/hello/AppData/Local/Programs/Python/Python310/lib/site-packages/airflow/settings.py?line=530'>531</a>\u001b[0m LOGGING_CLASS_PATH \u001b[39m=\u001b[39m configure_logging()\n\u001b[0;32m    <a href='file:///c%3A/Users/hello/AppData/Local/Programs/Python/Python310/lib/site-packages/airflow/settings.py?line=531'>532</a>\u001b[0m State\u001b[39m.\u001b[39mstate_color\u001b[39m.\u001b[39mupdate(STATE_COLORS)\n\u001b[0;32m    <a href='file:///c%3A/Users/hello/AppData/Local/Programs/Python/Python310/lib/site-packages/airflow/settings.py?line=533'>534</a>\u001b[0m configure_adapters()\n",
      "File \u001b[1;32m~\\AppData\\Local\\Programs\\Python\\Python310\\lib\\site-packages\\airflow\\logging_config.py:74\u001b[0m, in \u001b[0;36mconfigure_logging\u001b[1;34m()\u001b[0m\n\u001b[0;32m     <a href='file:///c%3A/Users/hello/AppData/Local/Programs/Python/Python310/lib/site-packages/airflow/logging_config.py?line=70'>71</a>\u001b[0m     log\u001b[39m.\u001b[39merror(\u001b[39m\"\u001b[39m\u001b[39mUnable to load the config, contains a configuration error.\u001b[39m\u001b[39m\"\u001b[39m)\n\u001b[0;32m     <a href='file:///c%3A/Users/hello/AppData/Local/Programs/Python/Python310/lib/site-packages/airflow/logging_config.py?line=71'>72</a>\u001b[0m     \u001b[39m# When there is an error in the config, escalate the exception\u001b[39;00m\n\u001b[0;32m     <a href='file:///c%3A/Users/hello/AppData/Local/Programs/Python/Python310/lib/site-packages/airflow/logging_config.py?line=72'>73</a>\u001b[0m     \u001b[39m# otherwise Airflow would silently fall back on the default config\u001b[39;00m\n\u001b[1;32m---> <a href='file:///c%3A/Users/hello/AppData/Local/Programs/Python/Python310/lib/site-packages/airflow/logging_config.py?line=73'>74</a>\u001b[0m     \u001b[39mraise\u001b[39;00m e\n\u001b[0;32m     <a href='file:///c%3A/Users/hello/AppData/Local/Programs/Python/Python310/lib/site-packages/airflow/logging_config.py?line=75'>76</a>\u001b[0m validate_logging_config(logging_config)\n\u001b[0;32m     <a href='file:///c%3A/Users/hello/AppData/Local/Programs/Python/Python310/lib/site-packages/airflow/logging_config.py?line=77'>78</a>\u001b[0m \u001b[39mreturn\u001b[39;00m logging_class_path\n",
      "File \u001b[1;32m~\\AppData\\Local\\Programs\\Python\\Python310\\lib\\site-packages\\airflow\\logging_config.py:69\u001b[0m, in \u001b[0;36mconfigure_logging\u001b[1;34m()\u001b[0m\n\u001b[0;32m     <a href='file:///c%3A/Users/hello/AppData/Local/Programs/Python/Python310/lib/site-packages/airflow/logging_config.py?line=65'>66</a>\u001b[0m             task_handler_config[\u001b[39m\"\u001b[39m\u001b[39mfilters\u001b[39m\u001b[39m\"\u001b[39m]\u001b[39m.\u001b[39mappend(\u001b[39m\"\u001b[39m\u001b[39mmask_secrets\u001b[39m\u001b[39m\"\u001b[39m)\n\u001b[0;32m     <a href='file:///c%3A/Users/hello/AppData/Local/Programs/Python/Python310/lib/site-packages/airflow/logging_config.py?line=67'>68</a>\u001b[0m     \u001b[39m# Try to init logging\u001b[39;00m\n\u001b[1;32m---> <a href='file:///c%3A/Users/hello/AppData/Local/Programs/Python/Python310/lib/site-packages/airflow/logging_config.py?line=68'>69</a>\u001b[0m     dictConfig(logging_config)\n\u001b[0;32m     <a href='file:///c%3A/Users/hello/AppData/Local/Programs/Python/Python310/lib/site-packages/airflow/logging_config.py?line=69'>70</a>\u001b[0m \u001b[39mexcept\u001b[39;00m (\u001b[39mValueError\u001b[39;00m, \u001b[39mKeyError\u001b[39;00m) \u001b[39mas\u001b[39;00m e:\n\u001b[0;32m     <a href='file:///c%3A/Users/hello/AppData/Local/Programs/Python/Python310/lib/site-packages/airflow/logging_config.py?line=70'>71</a>\u001b[0m     log\u001b[39m.\u001b[39merror(\u001b[39m\"\u001b[39m\u001b[39mUnable to load the config, contains a configuration error.\u001b[39m\u001b[39m\"\u001b[39m)\n",
      "File \u001b[1;32m~\\AppData\\Local\\Programs\\Python\\Python310\\lib\\logging\\config.py:810\u001b[0m, in \u001b[0;36mdictConfig\u001b[1;34m(config)\u001b[0m\n\u001b[0;32m    <a href='file:///c%3A/Users/hello/AppData/Local/Programs/Python/Python310/lib/logging/config.py?line=807'>808</a>\u001b[0m \u001b[39mdef\u001b[39;00m \u001b[39mdictConfig\u001b[39m(config):\n\u001b[0;32m    <a href='file:///c%3A/Users/hello/AppData/Local/Programs/Python/Python310/lib/logging/config.py?line=808'>809</a>\u001b[0m \u001b[39m    \u001b[39m\u001b[39m\"\"\"Configure logging using a dictionary.\"\"\"\u001b[39;00m\n\u001b[1;32m--> <a href='file:///c%3A/Users/hello/AppData/Local/Programs/Python/Python310/lib/logging/config.py?line=809'>810</a>\u001b[0m     dictConfigClass(config)\u001b[39m.\u001b[39;49mconfigure()\n",
      "File \u001b[1;32m~\\AppData\\Local\\Programs\\Python\\Python310\\lib\\logging\\config.py:547\u001b[0m, in \u001b[0;36mDictConfigurator.configure\u001b[1;34m(self)\u001b[0m\n\u001b[0;32m    <a href='file:///c%3A/Users/hello/AppData/Local/Programs/Python/Python310/lib/logging/config.py?line=543'>544</a>\u001b[0m         formatters[name] \u001b[39m=\u001b[39m \u001b[39mself\u001b[39m\u001b[39m.\u001b[39mconfigure_formatter(\n\u001b[0;32m    <a href='file:///c%3A/Users/hello/AppData/Local/Programs/Python/Python310/lib/logging/config.py?line=544'>545</a>\u001b[0m                                             formatters[name])\n\u001b[0;32m    <a href='file:///c%3A/Users/hello/AppData/Local/Programs/Python/Python310/lib/logging/config.py?line=545'>546</a>\u001b[0m     \u001b[39mexcept\u001b[39;00m \u001b[39mException\u001b[39;00m \u001b[39mas\u001b[39;00m e:\n\u001b[1;32m--> <a href='file:///c%3A/Users/hello/AppData/Local/Programs/Python/Python310/lib/logging/config.py?line=546'>547</a>\u001b[0m         \u001b[39mraise\u001b[39;00m \u001b[39mValueError\u001b[39;00m(\u001b[39m'\u001b[39m\u001b[39mUnable to configure \u001b[39m\u001b[39m'\u001b[39m\n\u001b[0;32m    <a href='file:///c%3A/Users/hello/AppData/Local/Programs/Python/Python310/lib/logging/config.py?line=547'>548</a>\u001b[0m                          \u001b[39m'\u001b[39m\u001b[39mformatter \u001b[39m\u001b[39m%r\u001b[39;00m\u001b[39m'\u001b[39m \u001b[39m%\u001b[39m name) \u001b[39mfrom\u001b[39;00m \u001b[39me\u001b[39;00m\n\u001b[0;32m    <a href='file:///c%3A/Users/hello/AppData/Local/Programs/Python/Python310/lib/logging/config.py?line=548'>549</a>\u001b[0m \u001b[39m# Next, do filters - they don't refer to anything else, either\u001b[39;00m\n\u001b[0;32m    <a href='file:///c%3A/Users/hello/AppData/Local/Programs/Python/Python310/lib/logging/config.py?line=549'>550</a>\u001b[0m filters \u001b[39m=\u001b[39m config\u001b[39m.\u001b[39mget(\u001b[39m'\u001b[39m\u001b[39mfilters\u001b[39m\u001b[39m'\u001b[39m, EMPTY_DICT)\n",
      "\u001b[1;31mValueError\u001b[0m: Unable to configure formatter 'airflow'"
     ]
    }
   ],
   "source": [
    "from datetime import datetime\n",
    "from airflow import DAG\n",
    "from airflow.operators.bash import BashOperator\n",
    "\n",
    "# Definisikan default_args untuk DAG\n",
    "default_args = {\n",
    "    'owner': 'airflow',\n",
    "    'depends_on_past': False,\n",
    "    'start_date': datetime(2023, 1, 1),\n",
    "    'retries': 1,\n",
    "}\n",
    "\n",
    "# Inisialisasi DAG\n",
    "dag = DAG(\n",
    "    'example_dag',\n",
    "    default_args=default_args,\n",
    "    description='Contoh DAG dengan BashOperator',\n",
    "    schedule_interval='@daily',  # atau sesuaikan dengan kebutuhan Anda\n",
    ")\n",
    "\n",
    "# Definisikan tasks\n",
    "task_1 = BashOperator(\n",
    "    task_id='task_1',\n",
    "    bash_command='echo \"Ini adalah task 1\"',\n",
    "    dag=dag,\n",
    ")\n",
    "\n",
    "task_2 = BashOperator(\n",
    "    task_id='task_2',\n",
    "    bash_command='echo \"Ini adalah task 2\"',\n",
    "    dag=dag,\n",
    ")\n",
    "\n",
    "task_3 = BashOperator(\n",
    "    task_id='task_3',\n",
    "    bash_command='echo \"Ini adalah task 3\"',\n",
    "    dag=dag,\n",
    ")\n",
    "\n",
    "task_4 = BashOperator(\n",
    "    task_id='task_4',\n",
    "    bash_command='echo \"Ini adalah task 4\"',\n",
    "    dag=dag,\n",
    ")\n",
    "\n",
    "task_5 = BashOperator(\n",
    "    task_id='task_5',\n",
    "    bash_command='echo \"Ini adalah task 5\"',\n",
    "    dag=dag,\n",
    ")\n",
    "\n",
    "task_6 = BashOperator(\n",
    "    task_id='task_6',\n",
    "    bash_command='echo \"Ini adalah task 6\"',\n",
    "    dag=dag,\n",
    ")\n",
    "\n",
    "# Tentukan dependencies antar task sesuai dengan gambar\n",
    "task_1 >> [task_2, task_3]\n",
    "task_2 >> task_4\n",
    "task_3 >> task_5\n",
    "[task_4, task_5] >> task_6\n"
   ]
  }
 ],
 "metadata": {
  "interpreter": {
   "hash": "0619d576b63731cda00fbd2357564e97cb4b83e208770ce00b248acd7270be51"
  },
  "kernelspec": {
   "display_name": "Python 3.10.1 64-bit",
   "language": "python",
   "name": "python3"
  },
  "language_info": {
   "codemirror_mode": {
    "name": "ipython",
    "version": 3
   },
   "file_extension": ".py",
   "mimetype": "text/x-python",
   "name": "python",
   "nbconvert_exporter": "python",
   "pygments_lexer": "ipython3",
   "version": "3.10.1"
  },
  "orig_nbformat": 4
 },
 "nbformat": 4,
 "nbformat_minor": 2
}
