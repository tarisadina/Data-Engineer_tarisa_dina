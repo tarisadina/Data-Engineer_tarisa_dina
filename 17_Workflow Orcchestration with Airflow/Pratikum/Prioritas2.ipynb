{
 "cells": [
  {
   "cell_type": "code",
   "execution_count": 1,
   "metadata": {},
   "outputs": [
    {
     "name": "stderr",
     "output_type": "stream",
     "text": [
      "C:\\Users\\hello\\AppData\\Local\\Programs\\Python\\Python310\\lib\\site-packages\\airflow\\__init__.py:35: RuntimeWarning: Airflow currently can be run on POSIX-compliant Operating Systems. For development, it is regularly tested on fairly modern Linux Distros and recent versions of macOS. On Windows you can run it via WSL2 (Windows Subsystem for Linux 2) or via Linux Containers. The work to add Windows support is tracked via https://github.com/apache/airflow/issues/10388, but it is not a high priority.\n",
      "  warnings.warn(\n",
      "OSError while attempting to symlink the latest log directory\n"
     ]
    },
    {
     "ename": "AirflowConfigException",
     "evalue": "Cannot use relative path: `sqlite:///C:\\Users\\hello/airflow/airflow.db` to connect to sqlite. Please use absolute path such as `sqlite:////tmp/airflow.db`.",
     "output_type": "error",
     "traceback": [
      "\u001b[1;31m---------------------------------------------------------------------------\u001b[0m",
      "\u001b[1;31mAirflowConfigException\u001b[0m                    Traceback (most recent call last)",
      "Cell \u001b[1;32mIn[1], line 2\u001b[0m\n\u001b[0;32m      1\u001b[0m \u001b[38;5;28;01mfrom\u001b[39;00m \u001b[38;5;21;01mdatetime\u001b[39;00m \u001b[38;5;28;01mimport\u001b[39;00m datetime\n\u001b[1;32m----> 2\u001b[0m \u001b[38;5;28;01mfrom\u001b[39;00m \u001b[38;5;21;01mairflow\u001b[39;00m \u001b[38;5;28;01mimport\u001b[39;00m DAG\n\u001b[0;32m      3\u001b[0m \u001b[38;5;28;01mfrom\u001b[39;00m \u001b[38;5;21;01mairflow\u001b[39;00m\u001b[38;5;21;01m.\u001b[39;00m\u001b[38;5;21;01moperators\u001b[39;00m\u001b[38;5;21;01m.\u001b[39;00m\u001b[38;5;21;01mpython_operator\u001b[39;00m \u001b[38;5;28;01mimport\u001b[39;00m PythonOperator\n\u001b[0;32m      4\u001b[0m \u001b[38;5;28;01mfrom\u001b[39;00m \u001b[38;5;21;01mairflow\u001b[39;00m\u001b[38;5;21;01m.\u001b[39;00m\u001b[38;5;21;01moperators\u001b[39;00m\u001b[38;5;21;01m.\u001b[39;00m\u001b[38;5;21;01mhttp_operator\u001b[39;00m \u001b[38;5;28;01mimport\u001b[39;00m SimpleHttpOperator\n",
      "File \u001b[1;32m~\\AppData\\Local\\Programs\\Python\\Python310\\lib\\site-packages\\airflow\\__init__.py:73\u001b[0m\n\u001b[0;32m     <a href='file:///c%3A/Users/hello/AppData/Local/Programs/Python/Python310/lib/site-packages/airflow/__init__.py?line=66'>67</a>\u001b[0m \u001b[39m# Perform side-effects unless someone has explicitly opted out before import\u001b[39;00m\n\u001b[0;32m     <a href='file:///c%3A/Users/hello/AppData/Local/Programs/Python/Python310/lib/site-packages/airflow/__init__.py?line=67'>68</a>\u001b[0m \u001b[39m# WARNING: DO NOT USE THIS UNLESS YOU REALLY KNOW WHAT YOU'RE DOING.\u001b[39;00m\n\u001b[0;32m     <a href='file:///c%3A/Users/hello/AppData/Local/Programs/Python/Python310/lib/site-packages/airflow/__init__.py?line=68'>69</a>\u001b[0m \u001b[39m# This environment variable prevents proper initialization, and things like\u001b[39;00m\n\u001b[0;32m     <a href='file:///c%3A/Users/hello/AppData/Local/Programs/Python/Python310/lib/site-packages/airflow/__init__.py?line=69'>70</a>\u001b[0m \u001b[39m# configs, logging, the ORM, etc. will be broken. It is only useful if you only\u001b[39;00m\n\u001b[0;32m     <a href='file:///c%3A/Users/hello/AppData/Local/Programs/Python/Python310/lib/site-packages/airflow/__init__.py?line=70'>71</a>\u001b[0m \u001b[39m# access certain trivial constants and free functions (e.g. `__version__`).\u001b[39;00m\n\u001b[0;32m     <a href='file:///c%3A/Users/hello/AppData/Local/Programs/Python/Python310/lib/site-packages/airflow/__init__.py?line=71'>72</a>\u001b[0m \u001b[39mif\u001b[39;00m \u001b[39mnot\u001b[39;00m os\u001b[39m.\u001b[39menviron\u001b[39m.\u001b[39mget(\u001b[39m\"\u001b[39m\u001b[39m_AIRFLOW__AS_LIBRARY\u001b[39m\u001b[39m\"\u001b[39m, \u001b[39mNone\u001b[39;00m):\n\u001b[1;32m---> <a href='file:///c%3A/Users/hello/AppData/Local/Programs/Python/Python310/lib/site-packages/airflow/__init__.py?line=72'>73</a>\u001b[0m     settings\u001b[39m.\u001b[39;49minitialize()\n\u001b[0;32m     <a href='file:///c%3A/Users/hello/AppData/Local/Programs/Python/Python310/lib/site-packages/airflow/__init__.py?line=74'>75</a>\u001b[0m \u001b[39m# Things to lazy import in form {local_name: ('target_module', 'target_name', 'deprecated')}\u001b[39;00m\n\u001b[0;32m     <a href='file:///c%3A/Users/hello/AppData/Local/Programs/Python/Python310/lib/site-packages/airflow/__init__.py?line=75'>76</a>\u001b[0m __lazy_imports: \u001b[39mdict\u001b[39m[\u001b[39mstr\u001b[39m, \u001b[39mtuple\u001b[39m[\u001b[39mstr\u001b[39m, \u001b[39mstr\u001b[39m, \u001b[39mbool\u001b[39m]] \u001b[39m=\u001b[39m {\n\u001b[0;32m     <a href='file:///c%3A/Users/hello/AppData/Local/Programs/Python/Python310/lib/site-packages/airflow/__init__.py?line=76'>77</a>\u001b[0m     \u001b[39m\"\u001b[39m\u001b[39mDAG\u001b[39m\u001b[39m\"\u001b[39m: (\u001b[39m\"\u001b[39m\u001b[39m.models.dag\u001b[39m\u001b[39m\"\u001b[39m, \u001b[39m\"\u001b[39m\u001b[39mDAG\u001b[39m\u001b[39m\"\u001b[39m, \u001b[39mFalse\u001b[39;00m),\n\u001b[0;32m     <a href='file:///c%3A/Users/hello/AppData/Local/Programs/Python/Python310/lib/site-packages/airflow/__init__.py?line=77'>78</a>\u001b[0m     \u001b[39m\"\u001b[39m\u001b[39mDataset\u001b[39m\u001b[39m\"\u001b[39m: (\u001b[39m\"\u001b[39m\u001b[39m.datasets\u001b[39m\u001b[39m\"\u001b[39m, \u001b[39m\"\u001b[39m\u001b[39mDataset\u001b[39m\u001b[39m\"\u001b[39m, \u001b[39mFalse\u001b[39;00m),\n\u001b[1;32m   (...)\u001b[0m\n\u001b[0;32m     <a href='file:///c%3A/Users/hello/AppData/Local/Programs/Python/Python310/lib/site-packages/airflow/__init__.py?line=81'>82</a>\u001b[0m     \u001b[39m\"\u001b[39m\u001b[39mAirflowException\u001b[39m\u001b[39m\"\u001b[39m: (\u001b[39m\"\u001b[39m\u001b[39m.exceptions\u001b[39m\u001b[39m\"\u001b[39m, \u001b[39m\"\u001b[39m\u001b[39mAirflowException\u001b[39m\u001b[39m\"\u001b[39m, \u001b[39mTrue\u001b[39;00m),\n\u001b[0;32m     <a href='file:///c%3A/Users/hello/AppData/Local/Programs/Python/Python310/lib/site-packages/airflow/__init__.py?line=82'>83</a>\u001b[0m }\n",
      "File \u001b[1;32m~\\AppData\\Local\\Programs\\Python\\Python310\\lib\\site-packages\\airflow\\settings.py:536\u001b[0m, in \u001b[0;36minitialize\u001b[1;34m()\u001b[0m\n\u001b[0;32m    <a href='file:///c%3A/Users/hello/AppData/Local/Programs/Python/Python310/lib/site-packages/airflow/settings.py?line=533'>534</a>\u001b[0m configure_adapters()\n\u001b[0;32m    <a href='file:///c%3A/Users/hello/AppData/Local/Programs/Python/Python310/lib/site-packages/airflow/settings.py?line=534'>535</a>\u001b[0m \u001b[39m# The webservers import this file from models.py with the default settings.\u001b[39;00m\n\u001b[1;32m--> <a href='file:///c%3A/Users/hello/AppData/Local/Programs/Python/Python310/lib/site-packages/airflow/settings.py?line=535'>536</a>\u001b[0m configure_orm()\n\u001b[0;32m    <a href='file:///c%3A/Users/hello/AppData/Local/Programs/Python/Python310/lib/site-packages/airflow/settings.py?line=536'>537</a>\u001b[0m configure_action_logging()\n\u001b[0;32m    <a href='file:///c%3A/Users/hello/AppData/Local/Programs/Python/Python310/lib/site-packages/airflow/settings.py?line=538'>539</a>\u001b[0m \u001b[39m# Ensure we close DB connections at scheduler and gunicorn worker terminations\u001b[39;00m\n",
      "File \u001b[1;32m~\\AppData\\Local\\Programs\\Python\\Python310\\lib\\site-packages\\airflow\\settings.py:238\u001b[0m, in \u001b[0;36mconfigure_orm\u001b[1;34m(disable_connection_pool, pool_class)\u001b[0m\n\u001b[0;32m    <a href='file:///c%3A/Users/hello/AppData/Local/Programs/Python/Python310/lib/site-packages/airflow/settings.py?line=228'>229</a>\u001b[0m \u001b[39mif\u001b[39;00m (\n\u001b[0;32m    <a href='file:///c%3A/Users/hello/AppData/Local/Programs/Python/Python310/lib/site-packages/airflow/settings.py?line=229'>230</a>\u001b[0m     SQL_ALCHEMY_CONN\n\u001b[0;32m    <a href='file:///c%3A/Users/hello/AppData/Local/Programs/Python/Python310/lib/site-packages/airflow/settings.py?line=230'>231</a>\u001b[0m     \u001b[39mand\u001b[39;00m SQL_ALCHEMY_CONN\u001b[39m.\u001b[39mstartswith(\u001b[39m\"\u001b[39m\u001b[39msqlite\u001b[39m\u001b[39m\"\u001b[39m)\n\u001b[1;32m   (...)\u001b[0m\n\u001b[0;32m    <a href='file:///c%3A/Users/hello/AppData/Local/Programs/Python/Python310/lib/site-packages/airflow/settings.py?line=233'>234</a>\u001b[0m     \u001b[39mand\u001b[39;00m SQL_ALCHEMY_CONN \u001b[39m!=\u001b[39m \u001b[39m\"\u001b[39m\u001b[39msqlite://\u001b[39m\u001b[39m\"\u001b[39m\n\u001b[0;32m    <a href='file:///c%3A/Users/hello/AppData/Local/Programs/Python/Python310/lib/site-packages/airflow/settings.py?line=234'>235</a>\u001b[0m ):\n\u001b[0;32m    <a href='file:///c%3A/Users/hello/AppData/Local/Programs/Python/Python310/lib/site-packages/airflow/settings.py?line=235'>236</a>\u001b[0m     \u001b[39mfrom\u001b[39;00m \u001b[39mairflow\u001b[39;00m\u001b[39m.\u001b[39;00m\u001b[39mexceptions\u001b[39;00m \u001b[39mimport\u001b[39;00m AirflowConfigException\n\u001b[1;32m--> <a href='file:///c%3A/Users/hello/AppData/Local/Programs/Python/Python310/lib/site-packages/airflow/settings.py?line=237'>238</a>\u001b[0m     \u001b[39mraise\u001b[39;00m AirflowConfigException(\n\u001b[0;32m    <a href='file:///c%3A/Users/hello/AppData/Local/Programs/Python/Python310/lib/site-packages/airflow/settings.py?line=238'>239</a>\u001b[0m         \u001b[39mf\u001b[39m\u001b[39m\"\u001b[39m\u001b[39mCannot use relative path: `\u001b[39m\u001b[39m{\u001b[39;00mSQL_ALCHEMY_CONN\u001b[39m}\u001b[39;00m\u001b[39m` to connect to sqlite. \u001b[39m\u001b[39m\"\u001b[39m\n\u001b[0;32m    <a href='file:///c%3A/Users/hello/AppData/Local/Programs/Python/Python310/lib/site-packages/airflow/settings.py?line=239'>240</a>\u001b[0m         \u001b[39m\"\u001b[39m\u001b[39mPlease use absolute path such as `sqlite:////tmp/airflow.db`.\u001b[39m\u001b[39m\"\u001b[39m\n\u001b[0;32m    <a href='file:///c%3A/Users/hello/AppData/Local/Programs/Python/Python310/lib/site-packages/airflow/settings.py?line=240'>241</a>\u001b[0m     )\n\u001b[0;32m    <a href='file:///c%3A/Users/hello/AppData/Local/Programs/Python/Python310/lib/site-packages/airflow/settings.py?line=242'>243</a>\u001b[0m \u001b[39mglobal\u001b[39;00m Session\n\u001b[0;32m    <a href='file:///c%3A/Users/hello/AppData/Local/Programs/Python/Python310/lib/site-packages/airflow/settings.py?line=243'>244</a>\u001b[0m \u001b[39mglobal\u001b[39;00m engine\n",
      "\u001b[1;31mAirflowConfigException\u001b[0m: Cannot use relative path: `sqlite:///C:\\Users\\hello/airflow/airflow.db` to connect to sqlite. Please use absolute path such as `sqlite:////tmp/airflow.db`."
     ]
    }
   ],
   "source": [
    "from datetime import datetime\n",
    "from airflow import DAG\n",
    "from airflow.operators.python_operator import PythonOperator\n",
    "from airflow.operators.http_operator import SimpleHttpOperator\n",
    "from airflow.operators.python_operator import PythonOperator\n",
    "\n",
    "default_args = {\n",
    "    'owner': 'airflow',\n",
    "    'depends_on_past': False,\n",
    "    'start_date': datetime(2024, 1, 1),\n",
    "    'email_on_failure': False,\n",
    "    'email_on_retry': False,\n",
    "    'retries': 1,\n",
    "}\n",
    "\n",
    "dag = DAG(\n",
    "    'fakestore_api_dag',\n",
    "    default_args=default_args,\n",
    "    description='A DAG to fetch data from fakestoreapi and write to CSV and TXT files',\n",
    "    schedule_interval=None,\n",
    ")\n",
    "\n",
    "def write_to_csv(response, **kwargs):\n",
    "    import csv\n",
    "    data = response.json()\n",
    "    with open('output/products.csv', 'w', newline='') as csvfile:\n",
    "        fieldnames = data[0].keys()\n",
    "        writer = csv.DictWriter(csvfile, fieldnames=fieldnames)\n",
    "        writer.writeheader()\n",
    "        for item in data:\n",
    "            writer.writerow(item)\n",
    "\n",
    "def write_to_txt(response, **kwargs):\n",
    "    with open('output/products.txt', 'w') as f:\n",
    "        f.write(response.text)\n",
    "\n",
    "def print_done():\n",
    "    print(\"Done!\")\n",
    "\n",
    "fetch_data = SimpleHttpOperator(\n",
    "    task_id='fetch_data',\n",
    "    method='GET',\n",
    "    http_conn_id='',\n",
    "    endpoint='/products',\n",
    "    xcom_push=True,\n",
    "    dag=dag,\n",
    ")\n",
    "\n",
    "write_to_csv = PythonOperator(\n",
    "    task_id='write_to_csv',\n",
    "    python_callable=write_to_csv,\n",
    "    provide_context=True,\n",
    "    dag=dag,\n",
    ")\n",
    "\n",
    "write_to_txt = PythonOperator(\n",
    "    task_id='write_to_txt',\n",
    "    python_callable=write_to_txt,\n",
    "    provide_context=True,\n",
    "    dag=dag,\n",
    ")\n",
    "\n",
    "print_done = PythonOperator(\n",
    "    task_id='print_done',\n",
    "    python_callable=print_done,\n",
    "    dag=dag,\n",
    ")\n",
    "\n",
    "fetch_data >> [write_to_csv, write_to_txt] >> print_done\n"
   ]
  }
 ],
 "metadata": {
  "interpreter": {
   "hash": "0619d576b63731cda00fbd2357564e97cb4b83e208770ce00b248acd7270be51"
  },
  "kernelspec": {
   "display_name": "Python 3.10.1 64-bit",
   "language": "python",
   "name": "python3"
  },
  "language_info": {
   "codemirror_mode": {
    "name": "ipython",
    "version": 3
   },
   "file_extension": ".py",
   "mimetype": "text/x-python",
   "name": "python",
   "nbconvert_exporter": "python",
   "pygments_lexer": "ipython3",
   "version": "3.10.1"
  },
  "orig_nbformat": 4
 },
 "nbformat": 4,
 "nbformat_minor": 2
}
