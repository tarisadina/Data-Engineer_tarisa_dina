{
 "cells": [
  {
   "cell_type": "code",
   "execution_count": 2,
   "metadata": {},
   "outputs": [
    {
     "data": {
      "text/html": [
       "<div>\n",
       "<style scoped>\n",
       "    .dataframe tbody tr th:only-of-type {\n",
       "        vertical-align: middle;\n",
       "    }\n",
       "\n",
       "    .dataframe tbody tr th {\n",
       "        vertical-align: top;\n",
       "    }\n",
       "\n",
       "    .dataframe thead th {\n",
       "        text-align: right;\n",
       "    }\n",
       "</style>\n",
       "<table border=\"1\" class=\"dataframe\">\n",
       "  <thead>\n",
       "    <tr style=\"text-align: right;\">\n",
       "      <th></th>\n",
       "      <th>name</th>\n",
       "      <th>age</th>\n",
       "      <th>favorite_front_end</th>\n",
       "      <th>favorite_back_end</th>\n",
       "      <th>salary_per_year_in_USD</th>\n",
       "      <th>company_type</th>\n",
       "    </tr>\n",
       "  </thead>\n",
       "  <tbody>\n",
       "    <tr>\n",
       "      <th>0</th>\n",
       "      <td>John Doe</td>\n",
       "      <td>19</td>\n",
       "      <td>JavaScript</td>\n",
       "      <td>Node.js</td>\n",
       "      <td>26000 - 40000</td>\n",
       "      <td>software house</td>\n",
       "    </tr>\n",
       "    <tr>\n",
       "      <th>1</th>\n",
       "      <td>Jane Smith</td>\n",
       "      <td>31-40</td>\n",
       "      <td>React</td>\n",
       "      <td>Java</td>\n",
       "      <td>more than 60000</td>\n",
       "      <td>fintech</td>\n",
       "    </tr>\n",
       "    <tr>\n",
       "      <th>2</th>\n",
       "      <td>Alice Johnson</td>\n",
       "      <td>17-20</td>\n",
       "      <td>HTML/CSS</td>\n",
       "      <td>Python</td>\n",
       "      <td>10000 - 25000</td>\n",
       "      <td>freelance</td>\n",
       "    </tr>\n",
       "    <tr>\n",
       "      <th>3</th>\n",
       "      <td>Bob Williams</td>\n",
       "      <td>26-30</td>\n",
       "      <td>Angular</td>\n",
       "      <td>PHP</td>\n",
       "      <td>41000 - 60000</td>\n",
       "      <td>software house</td>\n",
       "    </tr>\n",
       "    <tr>\n",
       "      <th>4</th>\n",
       "      <td>Emily Davis</td>\n",
       "      <td>21-25</td>\n",
       "      <td>-</td>\n",
       "      <td>C#</td>\n",
       "      <td>10000 - 25000</td>\n",
       "      <td>edutech</td>\n",
       "    </tr>\n",
       "    <tr>\n",
       "      <th>...</th>\n",
       "      <td>...</td>\n",
       "      <td>...</td>\n",
       "      <td>...</td>\n",
       "      <td>...</td>\n",
       "      <td>...</td>\n",
       "      <td>...</td>\n",
       "    </tr>\n",
       "    <tr>\n",
       "      <th>74</th>\n",
       "      <td>Liam Harris</td>\n",
       "      <td>31-40</td>\n",
       "      <td>HTML/CSS</td>\n",
       "      <td>PHP</td>\n",
       "      <td>more than 60000</td>\n",
       "      <td>software house</td>\n",
       "    </tr>\n",
       "    <tr>\n",
       "      <th>75</th>\n",
       "      <td>Olivia Robinson</td>\n",
       "      <td>17-20</td>\n",
       "      <td>React</td>\n",
       "      <td>Node.js</td>\n",
       "      <td>26000 - 40000</td>\n",
       "      <td>freelance</td>\n",
       "    </tr>\n",
       "    <tr>\n",
       "      <th>76</th>\n",
       "      <td>Noah Rodriguez</td>\n",
       "      <td>21-25</td>\n",
       "      <td>Vue.js</td>\n",
       "      <td>Python</td>\n",
       "      <td>41000 - 60000</td>\n",
       "      <td>software house</td>\n",
       "    </tr>\n",
       "    <tr>\n",
       "      <th>77</th>\n",
       "      <td>Emma Lee</td>\n",
       "      <td>26-30</td>\n",
       "      <td>-</td>\n",
       "      <td>Java</td>\n",
       "      <td>10000 - 25000</td>\n",
       "      <td>government</td>\n",
       "    </tr>\n",
       "    <tr>\n",
       "      <th>78</th>\n",
       "      <td>Aiden Martinez</td>\n",
       "      <td>31-40</td>\n",
       "      <td>Angular</td>\n",
       "      <td>C#</td>\n",
       "      <td>more than 60000</td>\n",
       "      <td>fintech</td>\n",
       "    </tr>\n",
       "  </tbody>\n",
       "</table>\n",
       "<p>79 rows × 6 columns</p>\n",
       "</div>"
      ],
      "text/plain": [
       "               name    age favorite_front_end favorite_back_end  \\\n",
       "0          John Doe     19         JavaScript           Node.js   \n",
       "1        Jane Smith  31-40              React              Java   \n",
       "2     Alice Johnson  17-20           HTML/CSS            Python   \n",
       "3      Bob Williams  26-30            Angular               PHP   \n",
       "4       Emily Davis  21-25                  -                C#   \n",
       "..              ...    ...                ...               ...   \n",
       "74      Liam Harris  31-40           HTML/CSS               PHP   \n",
       "75  Olivia Robinson  17-20              React           Node.js   \n",
       "76   Noah Rodriguez  21-25             Vue.js            Python   \n",
       "77         Emma Lee  26-30                  -              Java   \n",
       "78   Aiden Martinez  31-40            Angular                C#   \n",
       "\n",
       "   salary_per_year_in_USD    company_type  \n",
       "0           26000 - 40000  software house  \n",
       "1         more than 60000         fintech  \n",
       "2           10000 - 25000       freelance  \n",
       "3           41000 - 60000  software house  \n",
       "4           10000 - 25000         edutech  \n",
       "..                    ...             ...  \n",
       "74        more than 60000  software house  \n",
       "75          26000 - 40000       freelance  \n",
       "76          41000 - 60000  software house  \n",
       "77          10000 - 25000      government  \n",
       "78        more than 60000         fintech  \n",
       "\n",
       "[79 rows x 6 columns]"
      ]
     },
     "execution_count": 2,
     "metadata": {},
     "output_type": "execute_result"
    }
   ],
   "source": [
    "import pandas as pd\n",
    "\n",
    "# Membaca data survei dari file CSV\n",
    "data_survey = pd.read_csv('C:/Users/hello/OneDrive/kampus-merdeka_data-engineer/18_Data Engineering in The Cloud/Pratikum/survey.csv')\n",
    "\n",
    "# Menampilkan data survei\n",
    "data_survey\n"
   ]
  },
  {
   "cell_type": "code",
   "execution_count": 3,
   "metadata": {},
   "outputs": [],
   "source": [
    "# Proses Transformasi\n",
    "def transformasi_data(data_survey):\n",
    "    # Membersihkan data dari duplikat\n",
    "    data_survey = data_survey.drop_duplicates()\n",
    "    \n",
    "    # Membersihkan data dari baris yang memiliki nilai kosong (NaN)\n",
    "    data_survey = data_survey.dropna()\n",
    "    \n",
    "    return data_survey\n"
   ]
  },
  {
   "cell_type": "code",
   "execution_count": 4,
   "metadata": {},
   "outputs": [],
   "source": [
    "# Proses Ekstraksi, Transformasi, dan Load (ETL)\n",
    "def pipeline_ETL(data_survey):\n",
    "    # Ekstraksi\n",
    "    print(\"Ekstraksi data selesai.\")"
   ]
  },
  {
   "cell_type": "code",
   "execution_count": 5,
   "metadata": {},
   "outputs": [
    {
     "name": "stdout",
     "output_type": "stream",
     "text": [
      "Memulai proses transformasi data...\n",
      "Proses transformasi data selesai.\n"
     ]
    }
   ],
   "source": [
    "    # Transformasi\n",
    "    print(\"Memulai proses transformasi data...\")\n",
    "    data_survey = transformasi_data(data_survey)\n",
    "    print(\"Proses transformasi data selesai.\")"
   ]
  },
  {
   "cell_type": "code",
   "execution_count": 7,
   "metadata": {},
   "outputs": [
    {
     "name": "stdout",
     "output_type": "stream",
     "text": [
      "Ekstraksi data selesai.\n",
      "Data setelah proses transformasi:\n"
     ]
    }
   ],
   "source": [
    "# Jalankan pipeline ETL\n",
    "data_cleaned = pipeline_ETL(data_survey)\n",
    "\n",
    "# Tampilkan data setelah proses transformasi\n",
    "print(\"Data setelah proses transformasi:\")\n",
    "data_cleaned"
   ]
  },
  {
   "cell_type": "code",
   "execution_count": null,
   "metadata": {},
   "outputs": [],
   "source": []
  }
 ],
 "metadata": {
  "interpreter": {
   "hash": "0619d576b63731cda00fbd2357564e97cb4b83e208770ce00b248acd7270be51"
  },
  "kernelspec": {
   "display_name": "Python 3.10.1 64-bit",
   "language": "python",
   "name": "python3"
  },
  "language_info": {
   "codemirror_mode": {
    "name": "ipython",
    "version": 3
   },
   "file_extension": ".py",
   "mimetype": "text/x-python",
   "name": "python",
   "nbconvert_exporter": "python",
   "pygments_lexer": "ipython3",
   "version": "3.10.1"
  },
  "orig_nbformat": 4
 },
 "nbformat": 4,
 "nbformat_minor": 2
}
