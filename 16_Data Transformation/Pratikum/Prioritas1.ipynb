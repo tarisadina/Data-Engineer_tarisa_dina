{
 "cells": [
  {
   "cell_type": "code",
   "execution_count": 1,
   "metadata": {},
   "outputs": [],
   "source": [
    "import pandas as pd\n",
    "import numpy as np\n",
    "from sklearn.preprocessing import MinMaxScaler\n",
    "from scipy import stats"
   ]
  },
  {
   "cell_type": "code",
   "execution_count": 2,
   "metadata": {},
   "outputs": [
    {
     "name": "stdout",
     "output_type": "stream",
     "text": [
      "Data setelah normalisasi:\n",
      "   price  price_per_sq_meter Category title_deed     repair mortgage  rooms  \\\n",
      "0    0.0                 0.0        A        Yes       Good      Yes      2   \n",
      "1    0.2                 0.2        B         No       Poor       No      3   \n",
      "2    0.1                 0.1        A        Yes       Good      Yes      2   \n",
      "3    0.6                 0.6        C         No  Excellent       No      4   \n",
      "4    0.4                 0.4        B        Yes       Poor      Yes      3   \n",
      "5    1.0                 1.0        C         No  Excellent       No      4   \n",
      "\n",
      "  building_type  \n",
      "0     Apartment  \n",
      "1         House  \n",
      "2     Apartment  \n",
      "3         House  \n",
      "4         House  \n",
      "5     Apartment  \n"
     ]
    }
   ],
   "source": [
    "# Contoh data listing rumah\n",
    "data = {\n",
    "    'price': [50000, 100000, 75000, 200000, 150000, 300000],\n",
    "    'price_per_sq_meter': [500, 1000, 750, 2000, 1500, 3000],\n",
    "    'Category': ['A', 'B', 'A', 'C', 'B', 'C'],\n",
    "    'title_deed': ['Yes', 'No', 'Yes', 'No', 'Yes', 'No'],\n",
    "    'repair': ['Good', 'Poor', 'Good', 'Excellent', 'Poor', 'Excellent'],\n",
    "    'mortgage': ['Yes', 'No', 'Yes', 'No', 'Yes', 'No'],\n",
    "    'rooms': [2, 3, 2, 4, 3, 4],\n",
    "    'building_type': ['Apartment', 'House', 'Apartment', 'House', 'House', 'Apartment']\n",
    "}\n",
    "\n",
    "df = pd.DataFrame(data)\n",
    "\n",
    "# Normalisasi harga rumah dan harga per meter persegi menggunakan teknik Min-Max\n",
    "scaler = MinMaxScaler()\n",
    "df[['price', 'price_per_sq_meter']] = scaler.fit_transform(df[['price', 'price_per_sq_meter']])\n",
    "\n",
    "print(\"Data setelah normalisasi:\")\n",
    "print(df)"
   ]
  },
  {
   "cell_type": "code",
   "execution_count": 3,
   "metadata": {},
   "outputs": [
    {
     "name": "stdout",
     "output_type": "stream",
     "text": [
      "\n",
      "Data setelah one-hot encoding:\n",
      "   price  price_per_sq_meter  rooms building_type  Category_A  Category_B  \\\n",
      "0    0.0                 0.0      2     Apartment        True       False   \n",
      "1    0.2                 0.2      3         House       False        True   \n",
      "2    0.1                 0.1      2     Apartment        True       False   \n",
      "3    0.6                 0.6      4         House       False       False   \n",
      "4    0.4                 0.4      3         House       False        True   \n",
      "5    1.0                 1.0      4     Apartment       False       False   \n",
      "\n",
      "   Category_C  title_deed_No  title_deed_Yes  repair_Excellent  repair_Good  \\\n",
      "0       False          False            True             False         True   \n",
      "1       False           True           False             False        False   \n",
      "2       False          False            True             False         True   \n",
      "3        True           True           False              True        False   \n",
      "4       False          False            True             False        False   \n",
      "5        True           True           False              True        False   \n",
      "\n",
      "   repair_Poor  mortgage_No  mortgage_Yes  \n",
      "0        False        False          True  \n",
      "1         True         True         False  \n",
      "2        False        False          True  \n",
      "3        False         True         False  \n",
      "4         True        False          True  \n",
      "5        False         True         False  \n"
     ]
    }
   ],
   "source": [
    "# Encoding data kategorikal menggunakan one-hot encoding\n",
    "df_encoded = pd.get_dummies(df, columns=['Category', 'title_deed', 'repair', 'mortgage'])\n",
    "\n",
    "print(\"\\nData setelah one-hot encoding:\")\n",
    "print(df_encoded)\n"
   ]
  },
  {
   "cell_type": "code",
   "execution_count": 6,
   "metadata": {},
   "outputs": [
    {
     "name": "stdout",
     "output_type": "stream",
     "text": [
      "\n",
      "Aggregasi data:\n",
      "   rooms building_type  price_mean  price_median  price_mode\n",
      "0      2     Apartment        0.05          0.05         0.0\n",
      "1      3         House        0.30          0.30         0.2\n",
      "2      4     Apartment        1.00          1.00         1.0\n",
      "3      4         House        0.60          0.60         0.6\n"
     ]
    }
   ],
   "source": [
    "# Menghitung rata-rata, median, dan modus dari harga rumah berdasarkan jumlah kamar dan tipe bangunan\n",
    "aggregation = df.groupby(['rooms', 'building_type']).agg(\n",
    "    price_mean=('price', 'mean'),\n",
    "    price_median=('price', 'median'),\n",
    "    price_mode=('price', lambda x: x.mode().iloc[0] if not x.mode().empty else np.nan)\n",
    ").reset_index()\n",
    "\n",
    "print(\"\\nAggregasi data:\")\n",
    "print(aggregation)"
   ]
  }
 ],
 "metadata": {
  "interpreter": {
   "hash": "0619d576b63731cda00fbd2357564e97cb4b83e208770ce00b248acd7270be51"
  },
  "kernelspec": {
   "display_name": "Python 3.10.1 64-bit",
   "language": "python",
   "name": "python3"
  },
  "language_info": {
   "codemirror_mode": {
    "name": "ipython",
    "version": 3
   },
   "file_extension": ".py",
   "mimetype": "text/x-python",
   "name": "python",
   "nbconvert_exporter": "python",
   "pygments_lexer": "ipython3",
   "version": "3.10.1"
  },
  "orig_nbformat": 4
 },
 "nbformat": 4,
 "nbformat_minor": 2
}
