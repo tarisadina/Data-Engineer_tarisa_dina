{
 "cells": [
  {
   "cell_type": "code",
   "execution_count": 1,
   "metadata": {},
   "outputs": [],
   "source": [
    "import pandas as pd\n",
    "import numpy as np\n"
   ]
  },
  {
   "cell_type": "code",
   "execution_count": 3,
   "metadata": {},
   "outputs": [
    {
     "data": {
      "text/html": [
       "<div>\n",
       "<style scoped>\n",
       "    .dataframe tbody tr th:only-of-type {\n",
       "        vertical-align: middle;\n",
       "    }\n",
       "\n",
       "    .dataframe tbody tr th {\n",
       "        vertical-align: top;\n",
       "    }\n",
       "\n",
       "    .dataframe thead th {\n",
       "        text-align: right;\n",
       "    }\n",
       "</style>\n",
       "<table border=\"1\" class=\"dataframe\">\n",
       "  <thead>\n",
       "    <tr style=\"text-align: right;\">\n",
       "      <th></th>\n",
       "      <th>area</th>\n",
       "      <th>floor</th>\n",
       "      <th>price</th>\n",
       "      <th>address</th>\n",
       "      <th>url</th>\n",
       "    </tr>\n",
       "  </thead>\n",
       "  <tbody>\n",
       "    <tr>\n",
       "      <th>0</th>\n",
       "      <td>100.0</td>\n",
       "      <td>1.0</td>\n",
       "      <td>50000</td>\n",
       "      <td>Address 1</td>\n",
       "      <td>url1</td>\n",
       "    </tr>\n",
       "    <tr>\n",
       "      <th>1</th>\n",
       "      <td>200.0</td>\n",
       "      <td>2.0</td>\n",
       "      <td>100000</td>\n",
       "      <td>Address 2</td>\n",
       "      <td>url2</td>\n",
       "    </tr>\n",
       "    <tr>\n",
       "      <th>2</th>\n",
       "      <td>NaN</td>\n",
       "      <td>3.0</td>\n",
       "      <td>75000</td>\n",
       "      <td>Address 3</td>\n",
       "      <td>url3</td>\n",
       "    </tr>\n",
       "    <tr>\n",
       "      <th>3</th>\n",
       "      <td>150.0</td>\n",
       "      <td>NaN</td>\n",
       "      <td>200000</td>\n",
       "      <td>Address 4</td>\n",
       "      <td>url4</td>\n",
       "    </tr>\n",
       "    <tr>\n",
       "      <th>4</th>\n",
       "      <td>300.0</td>\n",
       "      <td>5.0</td>\n",
       "      <td>150000</td>\n",
       "      <td>Address 5</td>\n",
       "      <td>url5</td>\n",
       "    </tr>\n",
       "    <tr>\n",
       "      <th>5</th>\n",
       "      <td>NaN</td>\n",
       "      <td>6.0</td>\n",
       "      <td>300000</td>\n",
       "      <td>Address 6</td>\n",
       "      <td>url6</td>\n",
       "    </tr>\n",
       "  </tbody>\n",
       "</table>\n",
       "</div>"
      ],
      "text/plain": [
       "    area  floor   price    address   url\n",
       "0  100.0    1.0   50000  Address 1  url1\n",
       "1  200.0    2.0  100000  Address 2  url2\n",
       "2    NaN    3.0   75000  Address 3  url3\n",
       "3  150.0    NaN  200000  Address 4  url4\n",
       "4  300.0    5.0  150000  Address 5  url5\n",
       "5    NaN    6.0  300000  Address 6  url6"
      ]
     },
     "execution_count": 3,
     "metadata": {},
     "output_type": "execute_result"
    }
   ],
   "source": [
    "# Contoh data\n",
    "data = {\n",
    "    'area': [100, 200, np.nan, 150, 300, np.nan],\n",
    "    'floor': [1, 2, 3, np.nan, 5, 6],\n",
    "    'price': [50000, 100000, 75000, 200000, 150000, 300000],\n",
    "    'address': ['Address 1', 'Address 2', 'Address 3', 'Address 4', 'Address 5', 'Address 6'],\n",
    "    'url': ['url1', 'url2', 'url3', 'url4', 'url5', 'url6']\n",
    "}\n",
    "\n",
    "df = pd.DataFrame(data)\n",
    "df"
   ]
  },
  {
   "cell_type": "code",
   "execution_count": 4,
   "metadata": {},
   "outputs": [
    {
     "name": "stdout",
     "output_type": "stream",
     "text": [
      "Nilai yang hilang sebelum imputasi:\n"
     ]
    },
    {
     "data": {
      "text/plain": [
       "area       2\n",
       "floor      1\n",
       "price      0\n",
       "address    0\n",
       "url        0\n",
       "dtype: int64"
      ]
     },
     "execution_count": 4,
     "metadata": {},
     "output_type": "execute_result"
    }
   ],
   "source": [
    "# Mengidentifikasi nilai yang hilang\n",
    "print(\"Nilai yang hilang sebelum imputasi:\")\n",
    "df.isnull().sum()"
   ]
  },
  {
   "cell_type": "code",
   "execution_count": 5,
   "metadata": {},
   "outputs": [
    {
     "name": "stdout",
     "output_type": "stream",
     "text": [
      "\n",
      "Nilai yang hilang setelah imputasi:\n"
     ]
    },
    {
     "name": "stderr",
     "output_type": "stream",
     "text": [
      "C:\\Users\\hello\\AppData\\Local\\Temp\\ipykernel_19240\\345044001.py:2: FutureWarning: A value is trying to be set on a copy of a DataFrame or Series through chained assignment using an inplace method.\n",
      "The behavior will change in pandas 3.0. This inplace method will never work because the intermediate object on which we are setting values always behaves as a copy.\n",
      "\n",
      "For example, when doing 'df[col].method(value, inplace=True)', try using 'df.method({col: value}, inplace=True)' or df[col] = df[col].method(value) instead, to perform the operation inplace on the original object.\n",
      "\n",
      "\n",
      "  df['area'].fillna(df['area'].median(), inplace=True)\n",
      "C:\\Users\\hello\\AppData\\Local\\Temp\\ipykernel_19240\\345044001.py:3: FutureWarning: A value is trying to be set on a copy of a DataFrame or Series through chained assignment using an inplace method.\n",
      "The behavior will change in pandas 3.0. This inplace method will never work because the intermediate object on which we are setting values always behaves as a copy.\n",
      "\n",
      "For example, when doing 'df[col].method(value, inplace=True)', try using 'df.method({col: value}, inplace=True)' or df[col] = df[col].method(value) instead, to perform the operation inplace on the original object.\n",
      "\n",
      "\n",
      "  df['floor'].fillna(df['floor'].median(), inplace=True)\n"
     ]
    },
    {
     "data": {
      "text/plain": [
       "area       0\n",
       "floor      0\n",
       "price      0\n",
       "address    0\n",
       "url        0\n",
       "dtype: int64"
      ]
     },
     "execution_count": 5,
     "metadata": {},
     "output_type": "execute_result"
    }
   ],
   "source": [
    "# Mengimputasi nilai yang hilang dengan median atau mean\n",
    "df['area'].fillna(df['area'].median(), inplace=True)\n",
    "df['floor'].fillna(df['floor'].median(), inplace=True)\n",
    "\n",
    "print(\"\\nNilai yang hilang setelah imputasi:\")\n",
    "df.isnull().sum()"
   ]
  },
  {
   "cell_type": "code",
   "execution_count": 6,
   "metadata": {},
   "outputs": [
    {
     "name": "stdout",
     "output_type": "stream",
     "text": [
      "\n",
      "Outlier:\n",
      "Empty DataFrame\n",
      "Columns: [area, floor, price, address, url]\n",
      "Index: []\n",
      "\n",
      "Data setelah menghapus outlier:\n",
      "    area  floor   price    address   url\n",
      "0  100.0    1.0   50000  Address 1  url1\n",
      "1  200.0    2.0  100000  Address 2  url2\n",
      "2  175.0    3.0   75000  Address 3  url3\n",
      "3  150.0    3.0  200000  Address 4  url4\n",
      "4  300.0    5.0  150000  Address 5  url5\n",
      "5  175.0    6.0  300000  Address 6  url6\n"
     ]
    }
   ],
   "source": [
    "# Menghitung IQR\n",
    "Q1 = df['price'].quantile(0.25)\n",
    "Q3 = df['price'].quantile(0.75)\n",
    "IQR = Q3 - Q1\n",
    "\n",
    "# Menentukan batas bawah dan atas untuk outlier\n",
    "lower_bound = Q1 - 1.5 * IQR\n",
    "upper_bound = Q3 + 1.5 * IQR\n",
    "\n",
    "# Mengidentifikasi outlier\n",
    "outliers = df[(df['price'] < lower_bound) | (df['price'] > upper_bound)]\n",
    "print(\"\\nOutlier:\")\n",
    "print(outliers)\n",
    "\n",
    "# Mengatasi outlier (misalnya, dengan membuang atau mengimputasi)\n",
    "df = df[(df['price'] >= lower_bound) & (df['price'] <= upper_bound)]\n",
    "print(\"\\nData setelah menghapus outlier:\")\n",
    "print(df)\n"
   ]
  },
  {
   "cell_type": "code",
   "execution_count": 7,
   "metadata": {},
   "outputs": [
    {
     "name": "stdout",
     "output_type": "stream",
     "text": [
      "\n",
      "Verifikasi keakuratan data:\n",
      "     address  valid_address   url  valid_url\n",
      "0  Address 1           True  url1      False\n",
      "1  Address 2           True  url2      False\n",
      "2  Address 3           True  url3      False\n",
      "3  Address 4           True  url4      False\n",
      "4  Address 5           True  url5      False\n",
      "5  Address 6           True  url6      False\n"
     ]
    }
   ],
   "source": [
    "import re\n",
    "\n",
    "# Contoh validasi sederhana untuk kolom 'address' dan 'url'\n",
    "def is_valid_address(address):\n",
    "    return isinstance(address, str) and len(address.strip()) > 0\n",
    "\n",
    "def is_valid_url(url):\n",
    "    regex = re.compile(\n",
    "        r'^(?:http|ftp)s?://' # http:// or https://\n",
    "        r'(?:(?:[A-Z0-9](?:[A-Z0-9-]{0,61}[A-Z0-9])?\\.)+(?:[A-Z]{2,6}\\.?|[A-Z0-9-]{2,}\\.?)|' # domain...\n",
    "        r'localhost|' # localhost...\n",
    "        r'\\d{1,3}\\.\\d{1,3}\\.\\d{1,3}\\.\\d{1,3}|' # ...or ipv4\n",
    "        r'\\[?[A-F0-9]*:[A-F0-9:]+\\]?)' # ...or ipv6\n",
    "        r'(?::\\d+)?' # optional port\n",
    "        r'(?:/?|[/?]\\S+)$', re.IGNORECASE)\n",
    "    return re.match(regex, url) is not None\n",
    "\n",
    "# Verifikasi keakuratan data\n",
    "df['valid_address'] = df['address'].apply(is_valid_address)\n",
    "df['valid_url'] = df['url'].apply(is_valid_url)\n",
    "\n",
    "print(\"\\nVerifikasi keakuratan data:\")\n",
    "print(df[['address', 'valid_address', 'url', 'valid_url']])\n"
   ]
  }
 ],
 "metadata": {
  "interpreter": {
   "hash": "0619d576b63731cda00fbd2357564e97cb4b83e208770ce00b248acd7270be51"
  },
  "kernelspec": {
   "display_name": "Python 3.10.1 64-bit",
   "language": "python",
   "name": "python3"
  },
  "language_info": {
   "codemirror_mode": {
    "name": "ipython",
    "version": 3
   },
   "file_extension": ".py",
   "mimetype": "text/x-python",
   "name": "python",
   "nbconvert_exporter": "python",
   "pygments_lexer": "ipython3",
   "version": "3.10.1"
  },
  "orig_nbformat": 4
 },
 "nbformat": 4,
 "nbformat_minor": 2
}
