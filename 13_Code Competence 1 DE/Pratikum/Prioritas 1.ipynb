{
 "cells": [
  {
   "cell_type": "code",
   "execution_count": 5,
   "metadata": {},
   "outputs": [
    {
     "name": "stdout",
     "output_type": "stream",
     "text": [
      "Dataset berhasil diunduh dan disimpan di data_source\\news_sample.csv\n"
     ]
    }
   ],
   "source": [
    "import os\n",
    "import requests\n",
    "\n",
    "# Fungsi untuk mengunduh dataset dan menyimpannya ke dalam folder\n",
    "def download_dataset(url, folder_path):\n",
    "    # Pastikan folder data_source sudah ada, jika belum buat folder tersebut\n",
    "    if not os.path.exists(folder_path):\n",
    "        os.makedirs(folder_path)\n",
    "    \n",
    "    # Mendapatkan nama file dari URL\n",
    "    file_name = url.split('/')[-1]\n",
    "    \n",
    "    # Gabungkan folder_path dengan nama file untuk mendapatkan path lengkap\n",
    "    file_path = os.path.join(folder_path, file_name)\n",
    "    \n",
    "    # Lakukan request untuk mengunduh file dari URL\n",
    "    response = requests.get(url)\n",
    "    \n",
    "    # Jika request berhasil (kode status 200), simpan file\n",
    "    if response.status_code == 200:\n",
    "        with open(file_path, 'wb') as file:\n",
    "            file.write(response.content)\n",
    "        print(f\"Dataset berhasil diunduh dan disimpan di {file_path}\")\n",
    "    else:\n",
    "        print(\"Gagal mengunduh dataset.\")\n",
    "\n",
    "# URL tempat dataset disimpan\n",
    "url_dataset = 'https://raw.githubusercontent.com/several27/FakeNewsCorpus/master/news_sample.csv'\n",
    "\n",
    "# Folder tempat dataset akan disimpan\n",
    "folder_dataset = 'data_source'\n",
    "\n",
    "# Memanggil fungsi untuk mengunduh dataset\n",
    "download_dataset(url_dataset, folder_dataset)\n"
   ]
  },
  {
   "cell_type": "code",
   "execution_count": 8,
   "metadata": {},
   "outputs": [
    {
     "ename": "KeyError",
     "evalue": "'sentiment'",
     "output_type": "error",
     "traceback": [
      "\u001b[1;31m---------------------------------------------------------------------------\u001b[0m",
      "\u001b[1;31mKeyError\u001b[0m                                  Traceback (most recent call last)",
      "File \u001b[1;32m~\\AppData\\Local\\Programs\\Python\\Python310\\lib\\site-packages\\pandas\\core\\indexes\\base.py:3805\u001b[0m, in \u001b[0;36mIndex.get_loc\u001b[1;34m(self, key)\u001b[0m\n\u001b[0;32m   <a href='file:///c%3A/Users/hello/AppData/Local/Programs/Python/Python310/lib/site-packages/pandas/core/indexes/base.py?line=3803'>3804</a>\u001b[0m \u001b[39mtry\u001b[39;00m:\n\u001b[1;32m-> <a href='file:///c%3A/Users/hello/AppData/Local/Programs/Python/Python310/lib/site-packages/pandas/core/indexes/base.py?line=3804'>3805</a>\u001b[0m     \u001b[39mreturn\u001b[39;00m \u001b[39mself\u001b[39;49m\u001b[39m.\u001b[39;49m_engine\u001b[39m.\u001b[39;49mget_loc(casted_key)\n\u001b[0;32m   <a href='file:///c%3A/Users/hello/AppData/Local/Programs/Python/Python310/lib/site-packages/pandas/core/indexes/base.py?line=3805'>3806</a>\u001b[0m \u001b[39mexcept\u001b[39;00m \u001b[39mKeyError\u001b[39;00m \u001b[39mas\u001b[39;00m err:\n",
      "File \u001b[1;32mindex.pyx:167\u001b[0m, in \u001b[0;36mpandas._libs.index.IndexEngine.get_loc\u001b[1;34m()\u001b[0m\n",
      "File \u001b[1;32mindex.pyx:196\u001b[0m, in \u001b[0;36mpandas._libs.index.IndexEngine.get_loc\u001b[1;34m()\u001b[0m\n",
      "File \u001b[1;32mpandas\\\\_libs\\\\hashtable_class_helper.pxi:7081\u001b[0m, in \u001b[0;36mpandas._libs.hashtable.PyObjectHashTable.get_item\u001b[1;34m()\u001b[0m\n",
      "File \u001b[1;32mpandas\\\\_libs\\\\hashtable_class_helper.pxi:7089\u001b[0m, in \u001b[0;36mpandas._libs.hashtable.PyObjectHashTable.get_item\u001b[1;34m()\u001b[0m\n",
      "\u001b[1;31mKeyError\u001b[0m: 'sentiment'",
      "\nThe above exception was the direct cause of the following exception:\n",
      "\u001b[1;31mKeyError\u001b[0m                                  Traceback (most recent call last)",
      "Cell \u001b[1;32mIn[8], line 7\u001b[0m\n\u001b[0;32m      4\u001b[0m data \u001b[38;5;241m=\u001b[39m pd\u001b[38;5;241m.\u001b[39mread_csv(\u001b[38;5;124m'\u001b[39m\u001b[38;5;124mdata_source/file.csv\u001b[39m\u001b[38;5;124m'\u001b[39m)\n\u001b[0;32m      6\u001b[0m \u001b[38;5;66;03m# Hitung jumlah tweets untuk masing-masing kategori sentimen\u001b[39;00m\n\u001b[1;32m----> 7\u001b[0m sentiment_counts \u001b[38;5;241m=\u001b[39m \u001b[43mdata\u001b[49m\u001b[43m[\u001b[49m\u001b[38;5;124;43m'\u001b[39;49m\u001b[38;5;124;43msentiment\u001b[39;49m\u001b[38;5;124;43m'\u001b[39;49m\u001b[43m]\u001b[49m\u001b[38;5;241m.\u001b[39mvalue_counts()\n\u001b[0;32m      9\u001b[0m \u001b[38;5;66;03m# Simpan hasil perhitungan ke dalam file CSV\u001b[39;00m\n\u001b[0;32m     10\u001b[0m sentiment_counts\u001b[38;5;241m.\u001b[39mto_csv(\u001b[38;5;124m'\u001b[39m\u001b[38;5;124msentiment_counts.csv\u001b[39m\u001b[38;5;124m'\u001b[39m, header\u001b[38;5;241m=\u001b[39m[\u001b[38;5;124m'\u001b[39m\u001b[38;5;124mjumlah_tweets\u001b[39m\u001b[38;5;124m'\u001b[39m])\n",
      "File \u001b[1;32m~\\AppData\\Local\\Programs\\Python\\Python310\\lib\\site-packages\\pandas\\core\\frame.py:4102\u001b[0m, in \u001b[0;36mDataFrame.__getitem__\u001b[1;34m(self, key)\u001b[0m\n\u001b[0;32m   <a href='file:///c%3A/Users/hello/AppData/Local/Programs/Python/Python310/lib/site-packages/pandas/core/frame.py?line=4099'>4100</a>\u001b[0m \u001b[39mif\u001b[39;00m \u001b[39mself\u001b[39m\u001b[39m.\u001b[39mcolumns\u001b[39m.\u001b[39mnlevels \u001b[39m>\u001b[39m \u001b[39m1\u001b[39m:\n\u001b[0;32m   <a href='file:///c%3A/Users/hello/AppData/Local/Programs/Python/Python310/lib/site-packages/pandas/core/frame.py?line=4100'>4101</a>\u001b[0m     \u001b[39mreturn\u001b[39;00m \u001b[39mself\u001b[39m\u001b[39m.\u001b[39m_getitem_multilevel(key)\n\u001b[1;32m-> <a href='file:///c%3A/Users/hello/AppData/Local/Programs/Python/Python310/lib/site-packages/pandas/core/frame.py?line=4101'>4102</a>\u001b[0m indexer \u001b[39m=\u001b[39m \u001b[39mself\u001b[39;49m\u001b[39m.\u001b[39;49mcolumns\u001b[39m.\u001b[39;49mget_loc(key)\n\u001b[0;32m   <a href='file:///c%3A/Users/hello/AppData/Local/Programs/Python/Python310/lib/site-packages/pandas/core/frame.py?line=4102'>4103</a>\u001b[0m \u001b[39mif\u001b[39;00m is_integer(indexer):\n\u001b[0;32m   <a href='file:///c%3A/Users/hello/AppData/Local/Programs/Python/Python310/lib/site-packages/pandas/core/frame.py?line=4103'>4104</a>\u001b[0m     indexer \u001b[39m=\u001b[39m [indexer]\n",
      "File \u001b[1;32m~\\AppData\\Local\\Programs\\Python\\Python310\\lib\\site-packages\\pandas\\core\\indexes\\base.py:3812\u001b[0m, in \u001b[0;36mIndex.get_loc\u001b[1;34m(self, key)\u001b[0m\n\u001b[0;32m   <a href='file:///c%3A/Users/hello/AppData/Local/Programs/Python/Python310/lib/site-packages/pandas/core/indexes/base.py?line=3806'>3807</a>\u001b[0m     \u001b[39mif\u001b[39;00m \u001b[39misinstance\u001b[39m(casted_key, \u001b[39mslice\u001b[39m) \u001b[39mor\u001b[39;00m (\n\u001b[0;32m   <a href='file:///c%3A/Users/hello/AppData/Local/Programs/Python/Python310/lib/site-packages/pandas/core/indexes/base.py?line=3807'>3808</a>\u001b[0m         \u001b[39misinstance\u001b[39m(casted_key, abc\u001b[39m.\u001b[39mIterable)\n\u001b[0;32m   <a href='file:///c%3A/Users/hello/AppData/Local/Programs/Python/Python310/lib/site-packages/pandas/core/indexes/base.py?line=3808'>3809</a>\u001b[0m         \u001b[39mand\u001b[39;00m \u001b[39many\u001b[39m(\u001b[39misinstance\u001b[39m(x, \u001b[39mslice\u001b[39m) \u001b[39mfor\u001b[39;00m x \u001b[39min\u001b[39;00m casted_key)\n\u001b[0;32m   <a href='file:///c%3A/Users/hello/AppData/Local/Programs/Python/Python310/lib/site-packages/pandas/core/indexes/base.py?line=3809'>3810</a>\u001b[0m     ):\n\u001b[0;32m   <a href='file:///c%3A/Users/hello/AppData/Local/Programs/Python/Python310/lib/site-packages/pandas/core/indexes/base.py?line=3810'>3811</a>\u001b[0m         \u001b[39mraise\u001b[39;00m InvalidIndexError(key)\n\u001b[1;32m-> <a href='file:///c%3A/Users/hello/AppData/Local/Programs/Python/Python310/lib/site-packages/pandas/core/indexes/base.py?line=3811'>3812</a>\u001b[0m     \u001b[39mraise\u001b[39;00m \u001b[39mKeyError\u001b[39;00m(key) \u001b[39mfrom\u001b[39;00m \u001b[39merr\u001b[39;00m\n\u001b[0;32m   <a href='file:///c%3A/Users/hello/AppData/Local/Programs/Python/Python310/lib/site-packages/pandas/core/indexes/base.py?line=3812'>3813</a>\u001b[0m \u001b[39mexcept\u001b[39;00m \u001b[39mTypeError\u001b[39;00m:\n\u001b[0;32m   <a href='file:///c%3A/Users/hello/AppData/Local/Programs/Python/Python310/lib/site-packages/pandas/core/indexes/base.py?line=3813'>3814</a>\u001b[0m     \u001b[39m# If we have a listlike key, _check_indexing_error will raise\u001b[39;00m\n\u001b[0;32m   <a href='file:///c%3A/Users/hello/AppData/Local/Programs/Python/Python310/lib/site-packages/pandas/core/indexes/base.py?line=3814'>3815</a>\u001b[0m     \u001b[39m#  InvalidIndexError. Otherwise we fall through and re-raise\u001b[39;00m\n\u001b[0;32m   <a href='file:///c%3A/Users/hello/AppData/Local/Programs/Python/Python310/lib/site-packages/pandas/core/indexes/base.py?line=3815'>3816</a>\u001b[0m     \u001b[39m#  the TypeError.\u001b[39;00m\n\u001b[0;32m   <a href='file:///c%3A/Users/hello/AppData/Local/Programs/Python/Python310/lib/site-packages/pandas/core/indexes/base.py?line=3816'>3817</a>\u001b[0m     \u001b[39mself\u001b[39m\u001b[39m.\u001b[39m_check_indexing_error(key)\n",
      "\u001b[1;31mKeyError\u001b[0m: 'sentiment'"
     ]
    }
   ],
   "source": [
    "import pandas as pd\n",
    "\n",
    "# Baca dataset\n",
    "data = pd.read_csv('data_source/file.csv')\n",
    "\n",
    "# Hitung jumlah tweets untuk masing-masing kategori sentimen\n",
    "sentiment_counts = data['sentiment'].value_counts()\n",
    "\n",
    "# Simpan hasil perhitungan ke dalam file CSV\n",
    "sentiment_counts.to_csv('sentiment_counts.csv', header=['jumlah_tweets'])\n",
    "\n",
    "print(\"Jumlah tweets untuk masing-masing kategori sentimen telah disimpan dalam file sentiment_counts.csv\")\n"
   ]
  }
 ],
 "metadata": {
  "interpreter": {
   "hash": "0619d576b63731cda00fbd2357564e97cb4b83e208770ce00b248acd7270be51"
  },
  "kernelspec": {
   "display_name": "Python 3.10.1 64-bit",
   "language": "python",
   "name": "python3"
  },
  "language_info": {
   "codemirror_mode": {
    "name": "ipython",
    "version": 3
   },
   "file_extension": ".py",
   "mimetype": "text/x-python",
   "name": "python",
   "nbconvert_exporter": "python",
   "pygments_lexer": "ipython3",
   "version": "3.10.1"
  },
  "orig_nbformat": 4
 },
 "nbformat": 4,
 "nbformat_minor": 2
}
